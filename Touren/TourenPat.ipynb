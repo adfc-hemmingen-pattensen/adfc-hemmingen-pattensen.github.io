{
 "cells": [
  {
   "cell_type": "markdown",
   "metadata": {},
   "source": [
    "> Run Anaconde Prompt with Admin Rights\n",
    "\n",
    "Get ipyleaflet help https://ipyleaflet.readthedocs.io/en/latest/index.html\n",
    "\n",
    "Install \"pip install openlocationcode\"\n",
    "\n",
    "Install \"conda install gpxpy\"\n",
    "\n",
    "Get Coordinates from https://www.google.de/maps/@52.3097709,9.7330615,14z\n",
    "\n",
    "GPS converter https://www.gpsvisualizer.com/\n",
    "\n",
    "GeoJSON Daten http://opendatalab.de/projects/geojson-utilities/\n",
    "\n",
    "GPX Editor Online https://www.gpxeditor.co.uk/map\n",
    "GPX Tracks http://www.bikehike.co.uk/mapview.php\n",
    "\n",
    "For GPS see http://research.ganse.org/datasci/gps/\n",
    "\n",
    "GPS Viewer https://www.j-berkemeier.de/GPXViewer/"
   ]
  },
  {
   "cell_type": "markdown",
   "metadata": {},
   "source": [
    "# Create base map for Hemmingen\n",
    "Tipps: ScaleControl is not compatible with embed_html"
   ]
  },
  {
   "cell_type": "code",
   "execution_count": 12,
   "metadata": {},
   "outputs": [
    {
     "data": {
      "application/vnd.jupyter.widget-view+json": {
       "model_id": "ffc60944bfed4255a50ef510d46e8ad3",
       "version_major": 2,
       "version_minor": 0
      },
      "text/plain": [
       "Map(center=[52.2612, 9.7255], controls=(ZoomControl(options=['position', 'zoom_in_text', 'zoom_in_title', 'zoo…"
      ]
     },
     "metadata": {},
     "output_type": "display_data"
    }
   ],
   "source": [
    "# conda install -c conda-forge ipyleaflet \n",
    "## or\n",
    "# conda config --add channels conda-forge\n",
    "# conda install ipyleaflet \n",
    "from ipyleaflet import Map, basemaps, FullScreenControl, LayersControl, ScaleControl\n",
    "from sidecar import Sidecar\n",
    "\n",
    "def mapselection(i):\n",
    "    switcher={\n",
    "                0:basemaps.OpenStreetMap.Mapnik,\n",
    "                1:basemaps.Esri.WorldImagery,\n",
    "             }\n",
    "    return switcher.get(i,\"Invalid value of mapselection\")\n",
    "\n",
    "center = (52.30, 9.73)\n",
    "center = (52.2995, 9.7255)\n",
    "center = (52.2612, 9.7255)\n",
    "zoom = 11\n",
    "basemap = mapselection(1)\n",
    "\n",
    "m = None\n",
    "m = Map(basemap=basemap,center=center, zoom=zoom, scroll_wheel_zoom=True)\n",
    "m.layout.height='800px'\n",
    "m.layout.width='700px'\n",
    "\n",
    "# add controls\n",
    "m.add_control(FullScreenControl(position='topleft'))\n",
    "m.add_control(LayersControl(position='topleft'))\n",
    "\n",
    "m"
   ]
  },
  {
   "cell_type": "code",
   "execution_count": 13,
   "metadata": {},
   "outputs": [],
   "source": [
    "from ipyleaflet import basemap_to_tiles\n",
    "\n",
    "satellit = basemap_to_tiles(basemaps.OpenStreetMap.Mapnik)\n",
    "m.add_layer(satellit)"
   ]
  },
  {
   "cell_type": "markdown",
   "metadata": {},
   "source": [
    "# ADFC Icon and FSW Location"
   ]
  },
  {
   "cell_type": "code",
   "execution_count": 14,
   "metadata": {},
   "outputs": [
    {
     "data": {
      "text/plain": [
       "'img\\\\ADFCLogo.png'"
      ]
     },
     "execution_count": 14,
     "metadata": {},
     "output_type": "execute_result"
    }
   ],
   "source": [
    "from ipyleaflet import Icon, Marker\n",
    "\n",
    "iconPos = (52.326298, 9.676757)\n",
    "icon = Icon(icon_url='img\\ADFCLogo.png', icon_size=[120, 40])\n",
    "markIcon = Marker(name='Icon',location=iconPos, icon=icon)\n",
    "icon.icon_url"
   ]
  },
  {
   "cell_type": "code",
   "execution_count": 15,
   "metadata": {},
   "outputs": [],
   "source": [
    "from ipywidgets import HTML\n",
    "from ipyleaflet import AwesomeIcon, Marker\n",
    "\n",
    "locFSW = (52.319109, 9.723495)\n",
    "\n",
    "# icon\n",
    "iconGear = AwesomeIcon(\n",
    "    name='gear',\n",
    "    marker_color='blue',\n",
    "    icon_color='darkred',\n",
    "    spin=True\n",
    ")\n",
    "\n",
    "markerFSW = Marker( icon=iconGear, \n",
    "                    draggable= False,\n",
    "                    location=locFSW,\n",
    "                    title = 'klick mich')\n",
    "\n",
    "# Popup Window\n",
    "htmlFSW = HTML()\n",
    "htmlFSW.value = '''<a href=\"http://adfc-hemmingen-pattensen.github.io/\" \n",
    "                    target=\"_blank\">ADFC Selbsthilfe-Werkstatt</a>'''\n",
    "markerFSW.popup = htmlFSW"
   ]
  },
  {
   "cell_type": "code",
   "execution_count": 16,
   "metadata": {},
   "outputs": [
    {
     "data": {
      "application/vnd.jupyter.widget-view+json": {
       "model_id": "ffc60944bfed4255a50ef510d46e8ad3",
       "version_major": 2,
       "version_minor": 0
      },
      "text/plain": [
       "Map(center=[52.2612, 9.7255], controls=(ZoomControl(options=['position', 'zoom_in_text', 'zoom_in_title', 'zoo…"
      ]
     },
     "metadata": {},
     "output_type": "display_data"
    }
   ],
   "source": [
    "from ipywidgets import HTML\n",
    "from ipyleaflet import MarkerCluster\n",
    "\n",
    "ADFC_cluster = MarkerCluster(\n",
    "    name = 'ADFC Info',\n",
    "    markers=(markerFSW, markIcon)\n",
    ")\n",
    "\n",
    "\n",
    "\n",
    "m.add_layer(ADFC_cluster);\n",
    "    \n",
    "m"
   ]
  },
  {
   "cell_type": "markdown",
   "metadata": {},
   "source": [
    "# RadTouren\n",
    "\n",
    "pass GPX file"
   ]
  },
  {
   "cell_type": "code",
   "execution_count": 17,
   "metadata": {},
   "outputs": [
    {
     "name": "stdout",
     "output_type": "stream",
     "text": [
      "6\n"
     ]
    },
    {
     "data": {
      "text/plain": [
       "['TourenPat\\\\2020-05-17_184948196_Rad-Rundtour im Pattenser Süden.gpx',\n",
       " 'TourenPat\\\\2020-05-17_184992763_Rad-Rundtour in Pattensens Osten.gpx',\n",
       " 'TourenPat\\\\2020-06-02_195672296_5-Kapellen-Radtour (Teil1).gpx',\n",
       " 'TourenPat\\\\2020-06-02_195700357_5-Kapellen-Radtour (Teil2).gpx',\n",
       " 'TourenPat\\\\2020-06-10_199525432_E-Bike-Testrunde.gpx',\n",
       " 'TourenPat\\\\2020-06-14_202396750_Radtour zum Giesener _Kalimandscharo_ (Rundtour).gpx']"
      ]
     },
     "execution_count": 17,
     "metadata": {},
     "output_type": "execute_result"
    }
   ],
   "source": [
    "## Read all Route file\n",
    "from os import listdir\n",
    "from os.path import isfile, join\n",
    "\n",
    "TourenPath = 'TourenPat'\n",
    "\n",
    "Tourenfiles = [join(TourenPath,f) for f in listdir(TourenPath) if isfile(join(TourenPath, f)) if f.endswith(\".gpx\")]\n",
    "print(len(Tourenfiles))\n",
    "Tourenfiles"
   ]
  },
  {
   "cell_type": "code",
   "execution_count": 18,
   "metadata": {},
   "outputs": [],
   "source": [
    "import os.path\n",
    "from os import path\n",
    "\n",
    "def checkIfMDfileExist(gpxfile):\n",
    "    mdfile = gpxfile[:-3] + 'md'\n",
    "    if path.exists(mdfile):\n",
    "        return mdfile\n",
    "    return False"
   ]
  },
  {
   "cell_type": "code",
   "execution_count": 19,
   "metadata": {},
   "outputs": [],
   "source": [
    "css = u\"\"\"\n",
    "<style>\n",
    "h1 {\n",
    "  font-weight: bold;\n",
    "  color: #000;\n",
    "  font-size: 14px;\n",
    "}\n",
    "\n",
    "h2 {\n",
    "  font-weight: bold;\n",
    "  color: #000;\n",
    "  font-size: 13px;\n",
    "}\n",
    "h3 {\n",
    "  font-weight: bold;\n",
    "  color: #000;\n",
    "  font-size: 12px;\n",
    "}\n",
    "</style>\n",
    "\"\"\""
   ]
  },
  {
   "cell_type": "code",
   "execution_count": 20,
   "metadata": {},
   "outputs": [
    {
     "data": {
      "application/vnd.jupyter.widget-view+json": {
       "model_id": "ffc60944bfed4255a50ef510d46e8ad3",
       "version_major": 2,
       "version_minor": 0
      },
      "text/plain": [
       "Map(center=[52.2612, 9.7255], controls=(ZoomControl(options=['position', 'zoom_in_text', 'zoom_in_title', 'zoo…"
      ]
     },
     "metadata": {},
     "output_type": "display_data"
    }
   ],
   "source": [
    "# >conda install gpxpy\n",
    "\n",
    "from ipyleaflet import  Polyline\n",
    "import gpxpy\n",
    "import gpxpy.gpx\n",
    "import re\n",
    "from markdown import markdown\n",
    "\n",
    "#touren = []\n",
    "for file in Tourenfiles:\n",
    "    gpxfilefp = open(file, 'r', encoding='utf-8-sig') #use sig if file has Byte Order Mark (BOM)\n",
    "    gpx = gpxpy.parse(gpxfilefp)\n",
    "    gpxfilefp.close()\n",
    "    \n",
    "    data = [[i.latitude, i.longitude] for i in gpx.tracks[0].segments[0].points]\n",
    "\n",
    "    match = re.search('\\\\\\\\(.+?)\\.', file)\n",
    "    if match:\n",
    "        found = match.group(1)\n",
    "    \n",
    "    mdfile = checkIfMDfileExist(file)\n",
    "    if mdfile:\n",
    "        mdfilefp = open(mdfile, 'r', encoding='utf-8-sig') #use sig if file has Byte Order Mark (BOM)\n",
    "        mdtext = mdfilefp.read()\n",
    "        mdfilefp.close()\n",
    "    else:\n",
    "        mdtext = found\n",
    "        \n",
    "    # exchange link to make target = blank\n",
    "    #https://www.regexpal.com/95855\n",
    "    MDlink = re.compile(r\"\\[(.*?)\\]\\((.*?)\\)\", re.IGNORECASE) \n",
    "    subMD = r'<a href=\\2 target=\\\"_blank\\\">\\1</a>'\n",
    "                        \n",
    "    mdtext = MDlink.sub(subMD, mdtext)\n",
    "                        \n",
    "    colormatch = re.search(r\"<!--.*Farbe:.*'(.*?)'.*-->\",mdtext)\n",
    "    if colormatch:\n",
    "        color = colormatch.group(1)\n",
    "    else:\n",
    "        color = 'red'\n",
    "    \n",
    "    line = Polyline(\n",
    "        title = found,\n",
    "        name = found,\n",
    "        locations=data,\n",
    "        color=color,\n",
    "        opacity = 0.7,\n",
    "        weight =7,\n",
    "        fill=False\n",
    "    )\n",
    "\n",
    "\n",
    "    htmlDescription = HTML()\n",
    "    htmlDescription.value = css +\\\n",
    "                            '<div>' +\\\n",
    "                            markdown('Download: [GPX File]({})\\n\\n'.format(file) + mdtext) +\\\n",
    "                            '</div>'\n",
    "        \n",
    "    Poptext = HTML()\n",
    "    Poptext.value = htmlDescription.value\n",
    "    line.popup = Poptext\n",
    "    line.popup_min_width = 500\n",
    "    line.popup_max_height = 500\n",
    "\n",
    "    m.add_layer(line);\n",
    "\n",
    "m"
   ]
  },
  {
   "cell_type": "code",
   "execution_count": 21,
   "metadata": {},
   "outputs": [
    {
     "data": {
      "application/vnd.jupyter.widget-view+json": {
       "model_id": "ffc60944bfed4255a50ef510d46e8ad3",
       "version_major": 2,
       "version_minor": 0
      },
      "text/plain": [
       "Map(center=[52.2612, 9.7255], controls=(ZoomControl(options=['position', 'zoom_in_text', 'zoom_in_title', 'zoo…"
      ]
     },
     "metadata": {},
     "output_type": "display_data"
    }
   ],
   "source": [
    "from ipyleaflet import MeasureControl\n",
    "\n",
    "measure = MeasureControl(\n",
    "    position='topright',\n",
    "    active_color = 'orange',\n",
    "    primary_length_unit = 'kilometers',\n",
    "    primary_area_unit = 'hectares'\n",
    ")\n",
    "m.add_control(measure)\n",
    "\n",
    "measure.completed_color = 'red'\n",
    "\n",
    "\n",
    "m"
   ]
  },
  {
   "cell_type": "markdown",
   "metadata": {},
   "source": [
    "# Save as HTML and show in Browser\n",
    "#https://ipywidgets.readthedocs.io/en/latest/embedding.html#python-interface"
   ]
  },
  {
   "cell_type": "code",
   "execution_count": 22,
   "metadata": {},
   "outputs": [],
   "source": [
    "from ipywidgets.embed import embed_minimal_html #, dependency_state\n",
    "\n",
    "embed_minimal_html('TourenPat.html', views=[m], title='ADFC Pat Touren')\n",
    "\n",
    "# Start browser\n",
    "!c:\\DataADFC\\adfc-github\\adfc-hemmingen-pattensen.github.io\\Touren\\TourenPat.html"
   ]
  },
  {
   "cell_type": "code",
   "execution_count": null,
   "metadata": {},
   "outputs": [],
   "source": []
  }
 ],
 "metadata": {
  "kernelspec": {
   "display_name": "Python 3",
   "language": "python",
   "name": "python3"
  },
  "language_info": {
   "codemirror_mode": {
    "name": "ipython",
    "version": 3
   },
   "file_extension": ".py",
   "mimetype": "text/x-python",
   "name": "python",
   "nbconvert_exporter": "python",
   "pygments_lexer": "ipython3",
   "version": "3.7.6"
  }
 },
 "nbformat": 4,
 "nbformat_minor": 4
}
