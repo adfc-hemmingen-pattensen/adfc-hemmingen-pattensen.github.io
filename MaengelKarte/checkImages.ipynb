{
 "cells": [
  {
   "cell_type": "markdown",
   "metadata": {},
   "source": [
    "## checkImages"
   ]
  },
  {
   "cell_type": "code",
   "execution_count": 27,
   "metadata": {},
   "outputs": [
    {
     "data": {
      "text/plain": [
       "'c:\\\\DataADFC\\\\adfc-github\\\\adfc-hemmingen-pattensen.github.io\\\\MaengelKarte'"
      ]
     },
     "execution_count": 27,
     "metadata": {},
     "output_type": "execute_result"
    }
   ],
   "source": [
    "import os \n",
    " \n",
    "os.getcwd()"
   ]
  },
  {
   "cell_type": "code",
   "execution_count": 28,
   "metadata": {},
   "outputs": [
    {
     "data": {
      "text/plain": [
       "['img\\\\6Q7V+23_JeinsenSued.png',\n",
       " 'img\\\\6Q7V+23_JeinsenSuedKorrektur.png',\n",
       " 'img\\\\7M8V+Q4_Lüdersen.png',\n",
       " 'img\\\\7Q87+6P_RadwegefuehrungGoettingerStr.png',\n",
       " 'img\\\\7QPG+76_BankettAbgesackt.png']"
      ]
     },
     "execution_count": 28,
     "metadata": {},
     "output_type": "execute_result"
    }
   ],
   "source": [
    "import os \n",
    " \n",
    "path = os.getcwd()\n",
    "fileExt = \"jpg\"\n",
    "fileExt = \"png\"\n",
    "\n",
    "allPngs = [os.path.join(d,f) for d,_,fl in os.walk(path) for f in fl if f.endswith(fileExt)]\n",
    "\n",
    "st = len(\"c:\\\\DataADFC\\\\adfc-github\\\\adfc-hemmingen-pattensen.github.io\\\\MaengelKarte\\\\\")\n",
    "\n",
    "pngfiles = [png[st:] for png in allPngs]\n",
    "pngfiles[:5]"
   ]
  },
  {
   "cell_type": "code",
   "execution_count": 29,
   "metadata": {},
   "outputs": [],
   "source": [
    "all = [f for f in os.listdir(os.getcwd()) if os.path.isfile(os.path.join(os.getcwd(), f))  ]\n",
    "allMDfiles = [x for x in all if x.endswith(\"md\")]"
   ]
  },
  {
   "cell_type": "code",
   "execution_count": 30,
   "metadata": {},
   "outputs": [
    {
     "data": {
      "text/plain": [
       "['..\\\\img\\\\banner.png',\n",
       " 'img\\\\IconVollbild.png',\n",
       " 'img\\\\IconLayers.png',\n",
       " 'img\\\\captchaEmail.png',\n",
       " '..\\\\img\\\\banner.png']"
      ]
     },
     "execution_count": 30,
     "metadata": {},
     "output_type": "execute_result"
    }
   ],
   "source": [
    "import re\n",
    "\n",
    "pngRefs = []\n",
    "for f in allMDfiles:\n",
    "    md = open(f, \"r\", encoding='utf8').read()\n",
    "    refs = re.findall( r'\\[.*\\]\\((.*?.{}).*?\\)'.format(fileExt), md)\n",
    "    ref = [ref for ref in refs if ref[:4] != \"http\"]\n",
    "    pngRefs.append(ref)\n",
    "flatlist = [j for sub in pngRefs for j in sub]\n",
    "\n",
    "foundpngs = []\n",
    "for entry in flatlist:\n",
    "    foundpngs.append(entry.replace('/', '\\\\'))\n",
    "                                   \n",
    "foundpngs[:5]"
   ]
  },
  {
   "cell_type": "code",
   "execution_count": 31,
   "metadata": {},
   "outputs": [
    {
     "data": {
      "text/plain": [
       "['..\\\\img\\\\banner.png', '..\\\\img\\\\banner.png']"
      ]
     },
     "execution_count": 31,
     "metadata": {},
     "output_type": "execute_result"
    }
   ],
   "source": [
    "# in *.md but not in img\n",
    "[x for x in foundpngs if x not in pngfiles]"
   ]
  },
  {
   "cell_type": "code",
   "execution_count": 32,
   "metadata": {},
   "outputs": [
    {
     "data": {
      "text/plain": [
       "['img\\\\8PFC+M26_WeserradwegHamelnEinengung.png',\n",
       " 'img\\\\8PHG+RW_VerengungRadweg.png',\n",
       " 'img\\\\ADFCLogo.png',\n",
       " 'img\\\\pin_red.png']"
      ]
     },
     "execution_count": 32,
     "metadata": {},
     "output_type": "execute_result"
    }
   ],
   "source": [
    "# in \"img\" but not in *.md\n",
    "[x for x in pngfiles if x not in  foundpngs ]"
   ]
  },
  {
   "cell_type": "code",
   "execution_count": null,
   "metadata": {},
   "outputs": [],
   "source": []
  },
  {
   "cell_type": "code",
   "execution_count": null,
   "metadata": {},
   "outputs": [],
   "source": []
  }
 ],
 "metadata": {
  "kernelspec": {
   "display_name": "Python 3",
   "language": "python",
   "name": "python3"
  },
  "language_info": {
   "codemirror_mode": {
    "name": "ipython",
    "version": 3
   },
   "file_extension": ".py",
   "mimetype": "text/x-python",
   "name": "python",
   "nbconvert_exporter": "python",
   "pygments_lexer": "ipython3",
   "version": "3.7.6"
  }
 },
 "nbformat": 4,
 "nbformat_minor": 4
}
