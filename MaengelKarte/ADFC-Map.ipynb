{
 "cells": [
  {
   "cell_type": "markdown",
   "metadata": {},
   "source": [
    "> Run Anaconde Prompt with Admin Rights\n",
    "\n",
    "Get ipyleaflet help https://ipyleaflet.readthedocs.io/en/latest/index.html\n",
    "\n",
    "Install \"pip install openlocationcode\"\n",
    "\n",
    "Install \"conda install gpxpy\"\n",
    "\n",
    "Get Coordinates from https://www.google.de/maps/@52.3097709,9.7330615,14z\n",
    "\n",
    "GPS converter https://www.gpsvisualizer.com/\n",
    "\n",
    "GeoJSON Daten http://opendatalab.de/projects/geojson-utilities/\n",
    "\n",
    "GPX Editor Online https://www.gpxeditor.co.uk/map\n",
    "GPX Tracks http://www.bikehike.co.uk/mapview.php\n",
    "\n",
    "For GPS see http://research.ganse.org/datasci/gps/\n",
    "\n",
    "GPS Viewer https://www.j-berkemeier.de/GPXViewer/"
   ]
  },
  {
   "cell_type": "markdown",
   "metadata": {},
   "source": [
    "# Create base map for Hemmingen\n",
    "Tipps: ScaleControl is not compatible with embed_html"
   ]
  },
  {
   "cell_type": "code",
   "execution_count": 1,
   "metadata": {},
   "outputs": [],
   "source": [
    "# conda install -c conda-forge ipyleaflet \n",
    "## or\n",
    "# conda config --add channels conda-forge\n",
    "# conda install ipyleaflet \n",
    "from ipyleaflet import Map, basemaps, FullScreenControl, LayersControl, ScaleControl\n",
    "from sidecar import Sidecar\n",
    "\n",
    "def mapselection(i):\n",
    "    switcher={\n",
    "                0:basemaps.OpenStreetMap.Mapnik,\n",
    "                1:basemaps.Esri.WorldImagery,\n",
    "             }\n",
    "    return switcher.get(i,\"Invalid value of mapselection\")\n",
    "\n",
    "center = (52.30, 9.73)\n",
    "zoom = 13\n",
    "basemap = mapselection(1)\n",
    "\n",
    "m = None\n",
    "m = Map(basemap=basemap,center=center, zoom=zoom, scroll_wheel_zoom=True)\n",
    "m.layout.height='800px'\n",
    "m.layout.width='800px'\n",
    "\n",
    "# add controls\n",
    "m.add_control(FullScreenControl(position='topleft'))\n",
    "m.add_control(LayersControl(position='topleft'))\n",
    "\n",
    "m;"
   ]
  },
  {
   "cell_type": "code",
   "execution_count": 2,
   "metadata": {},
   "outputs": [],
   "source": [
    "from ipyleaflet import basemap_to_tiles\n",
    "\n",
    "satellit = basemap_to_tiles(basemaps.OpenStreetMap.Mapnik)\n",
    "m.add_layer(satellit)"
   ]
  },
  {
   "cell_type": "markdown",
   "metadata": {},
   "source": [
    "# Load and show Borders"
   ]
  },
  {
   "cell_type": "code",
   "execution_count": 3,
   "metadata": {},
   "outputs": [
    {
     "data": {
      "text/plain": [
       "['Grenzen\\\\Hemmingen.gpx', 'Grenzen\\\\Pattensen.gpx']"
      ]
     },
     "execution_count": 3,
     "metadata": {},
     "output_type": "execute_result"
    }
   ],
   "source": [
    "## Read all Border files\n",
    "from os import listdir\n",
    "from os.path import isfile, join\n",
    "\n",
    "GrenzPath = 'Grenzen'\n",
    "\n",
    "Grenzfiles = [join(GrenzPath,f) for f in listdir(GrenzPath) if isfile(join(GrenzPath, f))]\n",
    "Grenzfiles"
   ]
  },
  {
   "cell_type": "code",
   "execution_count": 4,
   "metadata": {},
   "outputs": [],
   "source": [
    "# >conda install -c conda-forge gpxpy\n",
    "\n",
    "from ipyleaflet import  Polyline\n",
    "import gpxpy\n",
    "import gpxpy.gpx\n",
    "import re\n",
    "from ipywidgets import HTML\n",
    "from ipyleaflet import MarkerCluster\n",
    "\n",
    "grenzen = []\n",
    "for file in Grenzfiles:\n",
    "    gpxfilefp = open(file, 'r', encoding='utf-8-sig') #use sig if file has Byte Order Mark (BOM)\n",
    "    gpx = gpxpy.parse(gpxfilefp)\n",
    "\n",
    "    data = [[i.latitude, i.longitude] for i in gpx.tracks[0].segments[0].points]\n",
    "\n",
    "    line = Polyline(\n",
    "        name = 'Grenzen',\n",
    "        locations=data,\n",
    "        color=\"orange\",\n",
    "        opacity = 0.5,\n",
    "        weight = 5,\n",
    "        fill=False\n",
    "    )\n",
    "\n",
    "    match = re.search('\\\\\\\\(.+?)\\.', file)\n",
    "    if match:\n",
    "        found = match.group(1)\n",
    "    \n",
    "    Poptext = HTML()\n",
    "    Poptext.value = found\n",
    "    line.popup = Poptext\n",
    "\n",
    "    # m.add_layer(ant_path)\n",
    "\n",
    "    grenzen.append(line)\n",
    "    \n",
    "GrenzenCluster = MarkerCluster(name = 'Grenzverläufe', markers= grenzen)\n",
    "m.add_layer(GrenzenCluster);\n",
    "\n",
    "m;"
   ]
  },
  {
   "cell_type": "markdown",
   "metadata": {},
   "source": [
    "# ADFC Icon and FSW Location"
   ]
  },
  {
   "cell_type": "code",
   "execution_count": 5,
   "metadata": {},
   "outputs": [
    {
     "data": {
      "text/plain": [
       "'img\\\\ADFCLogo.png'"
      ]
     },
     "execution_count": 5,
     "metadata": {},
     "output_type": "execute_result"
    }
   ],
   "source": [
    "from ipyleaflet import Icon, Marker\n",
    "\n",
    "iconPos = (52.326298, 9.676757)\n",
    "icon = Icon(icon_url='img\\ADFCLogo.png', icon_size=[120, 40])\n",
    "markIcon = Marker(name='Icon',location=iconPos, icon=icon)\n",
    "icon.icon_url"
   ]
  },
  {
   "cell_type": "code",
   "execution_count": 6,
   "metadata": {},
   "outputs": [],
   "source": [
    "from ipywidgets import HTML\n",
    "from ipyleaflet import AwesomeIcon, Marker\n",
    "\n",
    "locFSW = (52.319109, 9.723495)\n",
    "\n",
    "# icon\n",
    "iconGear = AwesomeIcon(\n",
    "    name='gear',\n",
    "    marker_color='blue',\n",
    "    icon_color='darkred',\n",
    "    spin=True\n",
    ")\n",
    "\n",
    "markerFSW = Marker( icon=iconGear, \n",
    "                    draggable= False,\n",
    "                    location=locFSW,\n",
    "                    title = 'klick mich')\n",
    "\n",
    "# Popup Window\n",
    "htmlFSW = HTML()\n",
    "htmlFSW.value = '''<a href=\"http://adfc-hemmingen-pattensen.github.io/\" \n",
    "                    target=\"_blank\">ADFC Selbsthilfe-Werkstatt</a>'''\n",
    "markerFSW.popup = htmlFSW"
   ]
  },
  {
   "cell_type": "code",
   "execution_count": 7,
   "metadata": {},
   "outputs": [],
   "source": [
    "from ipywidgets import HTML\n",
    "from ipyleaflet import MarkerCluster\n",
    "\n",
    "ADFC_cluster = MarkerCluster(\n",
    "    name = 'ADFC Info',\n",
    "    markers=(markerFSW, markIcon)\n",
    ")\n",
    "\n",
    "\n",
    "\n",
    "m.add_layer(ADFC_cluster);\n",
    "    \n",
    "m;"
   ]
  },
  {
   "cell_type": "markdown",
   "metadata": {},
   "source": [
    "# Verbingungswünsche\n",
    "\n",
    "pass GPX file"
   ]
  },
  {
   "cell_type": "code",
   "execution_count": 8,
   "metadata": {},
   "outputs": [
    {
     "name": "stdout",
     "output_type": "stream",
     "text": [
      "28\n"
     ]
    },
    {
     "data": {
      "text/plain": [
       "['Maengel\\\\7M9R+3Xtrk.gpx',\n",
       " 'Maengel\\\\7PPR+3Ctrk.gpx',\n",
       " 'Maengel\\\\7PVG+Q8trk.gpx',\n",
       " 'Maengel\\\\8P3H+3Htrk.gpx',\n",
       " 'Maengel\\\\8P5P+FRtrk.gpx']"
      ]
     },
     "execution_count": 8,
     "metadata": {},
     "output_type": "execute_result"
    }
   ],
   "source": [
    "## Read all Route file\n",
    "from os import listdir\n",
    "from os.path import isfile, join\n",
    "\n",
    "WunschPath = 'Maengel'\n",
    "\n",
    "wunschfiles = [join(WunschPath,f) for f in listdir(WunschPath) if isfile(join(WunschPath, f))]\n",
    "print(len(wunschfiles))\n",
    "wunschfiles[:5]"
   ]
  },
  {
   "cell_type": "code",
   "execution_count": 9,
   "metadata": {},
   "outputs": [],
   "source": [
    "# >conda install gpxpy\n",
    "\n",
    "from ipyleaflet import  Polyline\n",
    "import gpxpy\n",
    "import gpxpy.gpx\n",
    "import re\n",
    "\n",
    "wuensche = []\n",
    "for file in wunschfiles:\n",
    "    gpxfilefp = open(file, 'r', encoding='utf-8-sig') #use sig if file has Byte Order Mark (BOM)\n",
    "    gpx = gpxpy.parse(gpxfilefp)\n",
    "\n",
    "    data = [[i.latitude, i.longitude] for i in gpx.tracks[0].segments[0].points]\n",
    "\n",
    "    line = Polyline(\n",
    "        name = 'Wunschverbindungen',\n",
    "        locations=data,\n",
    "        color=\"red\",\n",
    "        weight =3,\n",
    "        fill=False\n",
    "    )\n",
    "\n",
    "    match = re.search('\\\\\\\\(.+?)\\.', file)\n",
    "    if match:\n",
    "        found = match.group(1)\n",
    "    \n",
    "    Poptext = HTML()\n",
    "    Poptext.value = found\n",
    "    line.popup = Poptext\n",
    "\n",
    "    # m.add_layer(ant_path)\n",
    "\n",
    "    wuensche.append(line)\n",
    "WunschCluster = MarkerCluster(name = 'Wünsche', markers= wuensche)\n",
    "m.add_layer(WunschCluster);\n",
    "\n",
    "m;"
   ]
  },
  {
   "cell_type": "markdown",
   "metadata": {},
   "source": [
    "# Load Excel as dataframe"
   ]
  },
  {
   "cell_type": "code",
   "execution_count": 10,
   "metadata": {},
   "outputs": [
    {
     "data": {
      "text/html": [
       "<div>\n",
       "<style scoped>\n",
       "    .dataframe tbody tr th:only-of-type {\n",
       "        vertical-align: middle;\n",
       "    }\n",
       "\n",
       "    .dataframe tbody tr th {\n",
       "        vertical-align: top;\n",
       "    }\n",
       "\n",
       "    .dataframe thead th {\n",
       "        text-align: right;\n",
       "    }\n",
       "</style>\n",
       "<table border=\"1\" class=\"dataframe\">\n",
       "  <thead>\n",
       "    <tr style=\"text-align: right;\">\n",
       "      <th></th>\n",
       "      <th>PlusCode</th>\n",
       "      <th>GoogleMapLink</th>\n",
       "      <th>Titel</th>\n",
       "      <th>Einstelldatum</th>\n",
       "      <th>Informationsquelle</th>\n",
       "      <th>Ortsbeschreibung</th>\n",
       "      <th>Mangel</th>\n",
       "      <th>Maßnahmenvorschlag</th>\n",
       "      <th>Status</th>\n",
       "      <th>Links</th>\n",
       "      <th>...</th>\n",
       "      <th>R10</th>\n",
       "      <th>B3 alt</th>\n",
       "      <th>Dorfstr.</th>\n",
       "      <th>Allg.</th>\n",
       "      <th>Google Koordinaten\\nhttps://www.google.de/maps</th>\n",
       "      <th>latitude\\nohne\\nOffset</th>\n",
       "      <th>Offset</th>\n",
       "      <th>Name</th>\n",
       "      <th>latitude</th>\n",
       "      <th>longitude</th>\n",
       "    </tr>\n",
       "  </thead>\n",
       "  <tbody>\n",
       "    <tr>\n",
       "      <th>243</th>\n",
       "      <td>7Q64+F9</td>\n",
       "      <td>7Q64+F9</td>\n",
       "      <td>Radweg zur KGS - In Planung</td>\n",
       "      <td>2019-03-26 00:00:00</td>\n",
       "      <td>ADFC</td>\n",
       "      <td>Zwischen Dammstraße und KGS</td>\n",
       "      <td>siehe [HAZ Artikel](7Q64+F9_2019-03-26 HAZ Pat...</td>\n",
       "      <td>Radweg bauen</td>\n",
       "      <td>- 2019-09-27-Fr - J. Spille - Bau verzögert si...</td>\n",
       "      <td>NaN</td>\n",
       "      <td>...</td>\n",
       "      <td>NaN</td>\n",
       "      <td>NaN</td>\n",
       "      <td>NaN</td>\n",
       "      <td>NaN</td>\n",
       "      <td>NaN</td>\n",
       "      <td>NaN</td>\n",
       "      <td>NaN</td>\n",
       "      <td>NaN</td>\n",
       "      <td>NaN</td>\n",
       "      <td>NaN</td>\n",
       "    </tr>\n",
       "    <tr>\n",
       "      <th>244</th>\n",
       "      <td>7Q87+6P</td>\n",
       "      <td>7Q87+6P</td>\n",
       "      <td>Radwegführung Göttinger Straße - Ein Hin und H...</td>\n",
       "      <td>2019-09-22 00:00:00</td>\n",
       "      <td>In Gespräch mit Grünen</td>\n",
       "      <td>Pattensen - Göttinger Straße</td>\n",
       "      <td>Plenergy Sommer 2019: Die Schüler der KGS hatt...</td>\n",
       "      <td>siehe: Semesterarbeit der Studenten der HAWK H...</td>\n",
       "      <td>- 2019-03-11 Unsere Email an Frau Schumann\\n- ...</td>\n",
       "      <td>NaN</td>\n",
       "      <td>...</td>\n",
       "      <td>NaN</td>\n",
       "      <td>NaN</td>\n",
       "      <td>NaN</td>\n",
       "      <td>NaN</td>\n",
       "      <td>NaN</td>\n",
       "      <td>NaN</td>\n",
       "      <td>NaN</td>\n",
       "      <td>NaN</td>\n",
       "      <td>NaN</td>\n",
       "      <td>NaN</td>\n",
       "    </tr>\n",
       "    <tr>\n",
       "      <th>245</th>\n",
       "      <td>7RG4+R6</td>\n",
       "      <td>7RG4+R6</td>\n",
       "      <td>B443 - Starke Bodenwelle durch Wurzelwuchs</td>\n",
       "      <td>2018-11-27 00:00:00</td>\n",
       "      <td>ADFC</td>\n",
       "      <td>B443 - Brücke über Leine</td>\n",
       "      <td>Starke Bodenwelle durch Wurzelwuchs</td>\n",
       "      <td>Ausbesserung</td>\n",
       "      <td>Status 2018-11-27 J. Spille: Der Mangel ist sc...</td>\n",
       "      <td>NaN</td>\n",
       "      <td>...</td>\n",
       "      <td>NaN</td>\n",
       "      <td>NaN</td>\n",
       "      <td>NaN</td>\n",
       "      <td>NaN</td>\n",
       "      <td>NaN</td>\n",
       "      <td>NaN</td>\n",
       "      <td>NaN</td>\n",
       "      <td>NaN</td>\n",
       "      <td>NaN</td>\n",
       "      <td>NaN</td>\n",
       "    </tr>\n",
       "    <tr>\n",
       "      <th>246</th>\n",
       "      <td>7RP3+H8</td>\n",
       "      <td>7RP3+H8</td>\n",
       "      <td>Brücke bei Wasserwerk Grassdorf - Hoher Absatz...</td>\n",
       "      <td>2018-11-27 00:00:00</td>\n",
       "      <td>ADFC</td>\n",
       "      <td>Brücke bei Wasserwerk Grassdorf</td>\n",
       "      <td>Die Zufahrt auf die Brücke hat auf beiden Seit...</td>\n",
       "      <td>Status 2018-11-27 J. Spille: Welche Stadt ist ...</td>\n",
       "      <td>-  offen</td>\n",
       "      <td>NaN</td>\n",
       "      <td>...</td>\n",
       "      <td>NaN</td>\n",
       "      <td>NaN</td>\n",
       "      <td>NaN</td>\n",
       "      <td>NaN</td>\n",
       "      <td>NaN</td>\n",
       "      <td>NaN</td>\n",
       "      <td>NaN</td>\n",
       "      <td>NaN</td>\n",
       "      <td>NaN</td>\n",
       "      <td>NaN</td>\n",
       "    </tr>\n",
       "    <tr>\n",
       "      <th>247</th>\n",
       "      <td>NaN</td>\n",
       "      <td>0</td>\n",
       "      <td>NaN</td>\n",
       "      <td>NaN</td>\n",
       "      <td>NaN</td>\n",
       "      <td>NaN</td>\n",
       "      <td>NaN</td>\n",
       "      <td>NaN</td>\n",
       "      <td>NaN</td>\n",
       "      <td>NaN</td>\n",
       "      <td>...</td>\n",
       "      <td>NaN</td>\n",
       "      <td>NaN</td>\n",
       "      <td>NaN</td>\n",
       "      <td>NaN</td>\n",
       "      <td>NaN</td>\n",
       "      <td>NaN</td>\n",
       "      <td>NaN</td>\n",
       "      <td>NaN</td>\n",
       "      <td>NaN</td>\n",
       "      <td>NaN</td>\n",
       "    </tr>\n",
       "  </tbody>\n",
       "</table>\n",
       "<p>5 rows × 35 columns</p>\n",
       "</div>"
      ],
      "text/plain": [
       "    PlusCode GoogleMapLink                                              Titel  \\\n",
       "243  7Q64+F9       7Q64+F9                        Radweg zur KGS - In Planung   \n",
       "244  7Q87+6P       7Q87+6P  Radwegführung Göttinger Straße - Ein Hin und H...   \n",
       "245  7RG4+R6       7RG4+R6         B443 - Starke Bodenwelle durch Wurzelwuchs   \n",
       "246  7RP3+H8       7RP3+H8  Brücke bei Wasserwerk Grassdorf - Hoher Absatz...   \n",
       "247      NaN             0                                                NaN   \n",
       "\n",
       "           Einstelldatum      Informationsquelle  \\\n",
       "243  2019-03-26 00:00:00                    ADFC   \n",
       "244  2019-09-22 00:00:00  In Gespräch mit Grünen   \n",
       "245  2018-11-27 00:00:00                    ADFC   \n",
       "246  2018-11-27 00:00:00                    ADFC   \n",
       "247                  NaN                     NaN   \n",
       "\n",
       "                    Ortsbeschreibung  \\\n",
       "243      Zwischen Dammstraße und KGS   \n",
       "244     Pattensen - Göttinger Straße   \n",
       "245         B443 - Brücke über Leine   \n",
       "246  Brücke bei Wasserwerk Grassdorf   \n",
       "247                              NaN   \n",
       "\n",
       "                                                Mangel  \\\n",
       "243  siehe [HAZ Artikel](7Q64+F9_2019-03-26 HAZ Pat...   \n",
       "244  Plenergy Sommer 2019: Die Schüler der KGS hatt...   \n",
       "245                Starke Bodenwelle durch Wurzelwuchs   \n",
       "246  Die Zufahrt auf die Brücke hat auf beiden Seit...   \n",
       "247                                                NaN   \n",
       "\n",
       "                                    Maßnahmenvorschlag  \\\n",
       "243                                       Radweg bauen   \n",
       "244  siehe: Semesterarbeit der Studenten der HAWK H...   \n",
       "245                                       Ausbesserung   \n",
       "246  Status 2018-11-27 J. Spille: Welche Stadt ist ...   \n",
       "247                                                NaN   \n",
       "\n",
       "                                                Status Links  ...  R10 B3 alt  \\\n",
       "243  - 2019-09-27-Fr - J. Spille - Bau verzögert si...   NaN  ...  NaN    NaN   \n",
       "244  - 2019-03-11 Unsere Email an Frau Schumann\\n- ...   NaN  ...  NaN    NaN   \n",
       "245  Status 2018-11-27 J. Spille: Der Mangel ist sc...   NaN  ...  NaN    NaN   \n",
       "246                                           -  offen   NaN  ...  NaN    NaN   \n",
       "247                                                NaN   NaN  ...  NaN    NaN   \n",
       "\n",
       "    Dorfstr. Allg. Google Koordinaten\\nhttps://www.google.de/maps  \\\n",
       "243      NaN   NaN                                            NaN   \n",
       "244      NaN   NaN                                            NaN   \n",
       "245      NaN   NaN                                            NaN   \n",
       "246      NaN   NaN                                            NaN   \n",
       "247      NaN   NaN                                            NaN   \n",
       "\n",
       "    latitude\\nohne\\nOffset Offset Name latitude longitude  \n",
       "243                    NaN    NaN  NaN      NaN       NaN  \n",
       "244                    NaN    NaN  NaN      NaN       NaN  \n",
       "245                    NaN    NaN  NaN      NaN       NaN  \n",
       "246                    NaN    NaN  NaN      NaN       NaN  \n",
       "247                    NaN    NaN  NaN      NaN       NaN  \n",
       "\n",
       "[5 rows x 35 columns]"
      ]
     },
     "execution_count": 10,
     "metadata": {},
     "output_type": "execute_result"
    }
   ],
   "source": [
    "import pandas as pd\n",
    "\n",
    "df = pd.read_excel(r'Maengelliste.xlsx', sheet_name='Sheet1', skiprows=5, header=0)\n",
    "df.tail()"
   ]
  },
  {
   "cell_type": "code",
   "execution_count": 11,
   "metadata": {},
   "outputs": [
    {
     "data": {
      "text/plain": [
       "pandas.core.series.Series"
      ]
     },
     "execution_count": 11,
     "metadata": {},
     "output_type": "execute_result"
    }
   ],
   "source": [
    "type(df['Titel'])"
   ]
  },
  {
   "cell_type": "markdown",
   "metadata": {},
   "source": [
    "# Decode Open Location Code\n",
    "https://plus.codes/"
   ]
  },
  {
   "cell_type": "code",
   "execution_count": 12,
   "metadata": {},
   "outputs": [],
   "source": [
    "from openlocationcode import openlocationcode as olc\n",
    "import ipywidgets as widgets"
   ]
  },
  {
   "cell_type": "code",
   "execution_count": 13,
   "metadata": {},
   "outputs": [],
   "source": [
    "css = \"\"\"\n",
    "<style>\n",
    "h1 {\n",
    "  font-weight: bold;\n",
    "  color: #000;\n",
    "  font-size: 14px;\n",
    "}\n",
    "\n",
    "h2 {\n",
    "  font-weight: bold;\n",
    "  color: #000;\n",
    "  font-size: 13px;\n",
    "}\n",
    "h3 {\n",
    "  font-weight: bold;\n",
    "  color: #000;\n",
    "  font-size: 12px;\n",
    "}\n",
    "</style>\n",
    "\"\"\""
   ]
  },
  {
   "cell_type": "code",
   "execution_count": 14,
   "metadata": {},
   "outputs": [
    {
     "data": {
      "text/plain": [
       "'b10a8db164e0754105b7a99be72e3fe5'"
      ]
     },
     "execution_count": 14,
     "metadata": {},
     "output_type": "execute_result"
    }
   ],
   "source": [
    "# generate Hash code\n",
    "import hashlib\n",
    "\n",
    "def generateHash(RawTitel):\n",
    "    hash_object = hashlib.md5(RawTitel.encode())\n",
    "    return hash_object.hexdigest()\n",
    "\n",
    "#test\n",
    "generateHash(\"Hello World\")"
   ]
  },
  {
   "cell_type": "code",
   "execution_count": 15,
   "metadata": {},
   "outputs": [],
   "source": [
    "import urllib.parse\n",
    "\n",
    "def buildMarkdownText(df,i):\n",
    "    plusCode = str(df.loc[i,'PlusCode'])\n",
    "    RawTitel = str(df.loc[i,'Titel'])\n",
    "    \n",
    "    anchorcode = generateHash(RawTitel)\n",
    " \n",
    "    anchor = '<a name=\"{}\"></a>\\n\\n'.format(anchorcode)\n",
    "    TextTitel = \"# {}\\n\\n\".format(RawTitel)\n",
    "    if type(TextTitel) != str:\n",
    "        TextTitel =  '*Kein Titel vorhanden*\\n\\n'\n",
    "    \n",
    "    BaseURL = \"https://adfc-hemmingen-pattensen.github.io/MaengelKarte/index.html\"\n",
    "    GMapURL = \"https://www.google.com/maps/search/?api=1&query=9F4F{}%2B{}\".format(plusCode[:4],plusCode[-2:])\n",
    "    TextPlusCode = \"- Plus Code: [{}]({})\\n\".format(plusCode,GMapURL)\n",
    "\n",
    "    #Mängelliste = '- Mängelliste: [Link]({})\\n'.format(BaseURL+'#'+anchorcode)\n",
    "    Mängelliste = '- Mängelliste: <a href={} target=\"_blank\">Link</a>\\n'.format(BaseURL+'#'+anchorcode)\n",
    "      \n",
    "    Einstelldatum = \"- Einstelldatum: {}\\n\".format(str(df.loc[i,'Einstelldatum'])[:10])\n",
    "    Informationsquelle = \"- Informationsquelle: {}\\n\".format(str(df.loc[i,'Informationsquelle']))\n",
    "    Ortsbeschreibung = \"\\n### Ortsbeschreibung:\\n\\n {}\\n\".format(str(df.loc[i,'Ortsbeschreibung']))\n",
    "    Mangel = \"\\n### Mangel:\\n\\n {}\\n\".format(str(df.loc[i,'Mangel']))\n",
    "    Maßnahmenvorschlag = \"\\n### Maßnahmenvorschlag:\\n\\n {}\\n\".format(str(df.loc[i,'Maßnahmenvorschlag']))\n",
    "    Status = \"\\n### Status:\\n\\n {}\\n\".format(str(df.loc[i,'Status']))\n",
    "    hr = \"\\n---\\n\"\n",
    "    \n",
    "    return( anchor\n",
    "           +TextTitel\n",
    "           +TextPlusCode\n",
    "           +Mängelliste\n",
    "           +Einstelldatum\n",
    "           +Informationsquelle\n",
    "           +Ortsbeschreibung\n",
    "           +Mangel\n",
    "           +Maßnahmenvorschlag\n",
    "           +Status\n",
    "           +hr\n",
    "          ) "
   ]
  },
  {
   "cell_type": "code",
   "execution_count": 16,
   "metadata": {},
   "outputs": [],
   "source": [
    "import random\n",
    "import string\n",
    "\n",
    "def randomString(stringLength=8):\n",
    "    letters = string.ascii_lowercase\n",
    "    return ''.join(random.choice(letters) for i in range(stringLength))"
   ]
  },
  {
   "cell_type": "code",
   "execution_count": 17,
   "metadata": {},
   "outputs": [],
   "source": [
    "### Create GPX Waypoint file <== New 2020-05-16-Sa JSp\n",
    "\n",
    "def CreateGPXfile(gpx, gpxfilefp,coor,short, mdText):\n",
    "    wpt = gpxpy.gpx.GPXWaypoint(latitude = coor.latitudeCenter,longitude=coor.longitudeCenter)\n",
    "    wpt.description = mdText\n",
    "    wpt.name = short+'_'+randomString(5)\n",
    "    gpx.waypoints.append(wpt)\n",
    "    return gpx"
   ]
  },
  {
   "cell_type": "code",
   "execution_count": 18,
   "metadata": {},
   "outputs": [
    {
     "name": "stdout",
     "output_type": "stream",
     "text": [
      "Anzahl der Mängel 248\n",
      "184 185 186 187 188 189 190 191 192 193 194 195 196 197 198 199 200 201 202 203 204 205 206 207 208 209 210 211 212 213 214 215 216 217 218 219 220 221 222 223 224 225 226 227 228 229 230 231 232 233 234 235 236 237 238 239 240 241 242 243 244 245 254 "
     ]
    },
    {
     "data": {
      "application/vnd.jupyter.widget-view+json": {
       "model_id": "7df53b1b48344701ac086ffc83fa7f0c",
       "version_major": 2,
       "version_minor": 0
      },
      "text/plain": [
       "Map(center=[52.3, 9.73], controls=(ZoomControl(options=['position', 'zoom_in_text', 'zoom_in_title', 'zoom_out…"
      ]
     },
     "metadata": {},
     "output_type": "display_data"
    }
   ],
   "source": [
    "# extract and convert 1st row  - openlocationcode \n",
    "# pip install openlocationcode\n",
    "from openlocationcode import openlocationcode as olc\n",
    "import os.path\n",
    "from markdown import markdown\n",
    "import re\n",
    "\n",
    "regexMarkdownImg = re.compile(r\"!\\[(.*?)\\]\\((.*?)\\)\", re.IGNORECASE) #https://www.regexpal.com/95855\n",
    "\n",
    "icon = Icon(icon_url='img\\pin_red.png', \n",
    "            icon_size=[281/15,641/15], \n",
    "            icon_anchor=[281/30,641/15])\n",
    "\n",
    "AnzahlMarkers = len(df['PlusCode'])\n",
    "print('Anzahl der Mängel {0}'.format(AnzahlMarkers))\n",
    "\n",
    "allMDdescriptions = \"\"\n",
    "\n",
    "fname = r\"GPSOutput/maengel.gpx\"\n",
    "gpxfilefp = open(fname, 'w', encoding='utf-8-sig') #use sig if file has Byte Order Mark (BOM)\n",
    "gpx = gpxpy.gpx.GPX()\n",
    "\n",
    "markerMaengel = []\n",
    "for i in range(0,AnzahlMarkers):\n",
    "\n",
    "    # read OLC\n",
    "    short = str(df.loc[i,'PlusCode'])[:7]\n",
    "    if olc.isValid(short): \n",
    "        \n",
    "        mdText = buildMarkdownText(df,i)\n",
    "        \n",
    "        subMDimg = r'![\\1](img\\\\\\2)'\n",
    "        allMDdescriptions += regexMarkdownImg.sub(subMDimg, mdText)+\"\\n\"\n",
    "        \n",
    "        # replace md img with html img and use width\n",
    "        subHTMLimg = r'<img src=\"https://adfc-hemmingen-pattensen.github.io/MaengelKarte/img/\\2\" width=\"300\">'\n",
    "        mdTextPopUp = regexMarkdownImg.sub(subHTMLimg, mdText)\n",
    "        \n",
    "        htmlDescription = HTML()\n",
    "        htmlDescription.value = css+'<div>'+markdown(mdTextPopUp)+'</div>'\n",
    "        \n",
    "        # convert OLC to Lat,Lon\n",
    "        long = olc.recoverNearest(short, 52.30, 9.73)\n",
    "        coor = olc.decode(long)\n",
    "        pos =(coor.latitudeCenter, coor.longitudeCenter)\n",
    "        \n",
    "        markerMangel = Marker(title=\"klick\",\n",
    "                              location=pos, \n",
    "                              icon=icon, \n",
    "                              draggable=False, \n",
    "                              rotation_angle=20, \n",
    "                              rotation_origin='bottom center'\n",
    "                              )\n",
    "        \n",
    "        markerMangel.popup = htmlDescription\n",
    "        ## check https://ipyleaflet.readthedocs.io/en/latest/api_reference/popup.html\n",
    "        markerMangel.popup_min_width = 500\n",
    "        markerMangel.popup_max_height = 500\n",
    "\n",
    "        markerMaengel.append(markerMangel)\n",
    "        \n",
    "        gpx = CreateGPXfile(gpx, gpxfilefp,coor,short, mdText)\n",
    "        \n",
    "    else:\n",
    "        print(i+7, end=\" \")\n",
    "\n",
    "f = open('maengel.md', 'w',encoding='utf8')\n",
    "f.write(allMDdescriptions)\n",
    "f.close()\n",
    "\n",
    "gpxfilefp.write(gpx.to_xml())\n",
    "gpxfilefp.close()\n",
    "        \n",
    "MaengelCluster = MarkerCluster(name = 'Maengel', markers= markerMaengel)\n",
    "\n",
    "m.add_layer(MaengelCluster);\n",
    "    \n",
    "m"
   ]
  },
  {
   "cell_type": "code",
   "execution_count": 19,
   "metadata": {},
   "outputs": [
    {
     "data": {
      "text/plain": [
       "['Routen\\\\Route01.gpx',\n",
       " 'Routen\\\\Route02.gpx',\n",
       " 'Routen\\\\Route03.gpx',\n",
       " 'Routen\\\\Route04.gpx',\n",
       " 'Routen\\\\Route05.gpx',\n",
       " 'Routen\\\\Route06.gpx',\n",
       " 'Routen\\\\Route07.gpx',\n",
       " 'Routen\\\\Route08.gpx',\n",
       " 'Routen\\\\Route09.gpx',\n",
       " 'Routen\\\\Route10.gpx']"
      ]
     },
     "execution_count": 19,
     "metadata": {},
     "output_type": "execute_result"
    }
   ],
   "source": [
    "## Read all Route file\n",
    "from os import listdir\n",
    "from os.path import isfile, join\n",
    "\n",
    "RoutenPath = 'Routen'\n",
    "\n",
    "onlyfiles = [join(RoutenPath,f) for f in listdir(RoutenPath) if isfile(join(RoutenPath, f))]\n",
    "onlyfiles"
   ]
  },
  {
   "cell_type": "code",
   "execution_count": 20,
   "metadata": {},
   "outputs": [],
   "source": [
    "from ipyleaflet import  AntPath\n",
    "import gpxpy\n",
    "import gpxpy.gpx\n",
    "\n",
    "Routen = []\n",
    "for file in onlyfiles:\n",
    "    gpxfilefp = open(file, 'r', encoding='utf-8-sig') #use sig if file has Byte Order Mark (BOM)\n",
    "    gpx = gpxpy.parse(gpxfilefp)\n",
    "\n",
    "    data = [[i.latitude, i.longitude] for i in gpx.tracks[0].segments[0].points]\n",
    "\n",
    "    match = re.search('\\\\\\\\(.+?)\\.', file)\n",
    "    if match:\n",
    "        found = match.group(1)\n",
    "        \n",
    "    ant_path = AntPath(\n",
    "        name = found,\n",
    "        title = found,\n",
    "        locations=data,\n",
    "        dash_array=[1, 10],\n",
    "        delay=1000,\n",
    "        color='#7590ba',\n",
    "        pulse_color='#3f6fba'\n",
    "    )\n",
    "\n",
    "        \n",
    "    Poptext = HTML()\n",
    "    Poptext.value = found\n",
    "    ant_path.popup = Poptext\n",
    "\n",
    "    m.add_layer(ant_path)\n",
    "\n",
    "m"
   ]
  },
  {
   "cell_type": "markdown",
   "metadata": {},
   "source": [
    "# Save as HTML and show in Browser\n",
    "#https://ipywidgets.readthedocs.io/en/latest/embedding.html#python-interface"
   ]
  },
  {
   "cell_type": "code",
   "execution_count": 21,
   "metadata": {},
   "outputs": [],
   "source": [
    "from ipywidgets.embed import embed_minimal_html #, dependency_state\n",
    "\n",
    "embed_minimal_html('ADFC-Map.html', views=[m], title='ADFC Hem/Pat Karte')\n",
    "\n",
    "# Start browser\n",
    "!c:\\DataADFC\\adfc-github\\adfc-hemmingen-pattensen.github.io\\MaengelKarte\\ADFC-Map.html"
   ]
  },
  {
   "cell_type": "code",
   "execution_count": null,
   "metadata": {},
   "outputs": [],
   "source": []
  }
 ],
 "metadata": {
  "kernelspec": {
   "display_name": "Python 3",
   "language": "python",
   "name": "python3"
  },
  "language_info": {
   "codemirror_mode": {
    "name": "ipython",
    "version": 3
   },
   "file_extension": ".py",
   "mimetype": "text/x-python",
   "name": "python",
   "nbconvert_exporter": "python",
   "pygments_lexer": "ipython3",
   "version": "3.7.6"
  }
 },
 "nbformat": 4,
 "nbformat_minor": 4
}
