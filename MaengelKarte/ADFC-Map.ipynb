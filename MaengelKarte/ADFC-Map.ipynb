{
 "cells": [
  {
   "cell_type": "markdown",
   "metadata": {},
   "source": [
    "> Run Anaconde Prompt with Admin Rights\n",
    "\n",
    "Get ipyleaflet help https://ipyleaflet.readthedocs.io/en/latest/index.html\n",
    "\n",
    "Install \"pip install openlocationcode\"\n",
    "\n",
    "Install \"conda install gpxpy\"\n",
    "\n",
    "Get Coordinates from https://www.google.de/maps/@52.3097709,9.7330615,14z\n",
    "\n",
    "GPS converter https://www.gpsvisualizer.com/\n",
    "\n",
    "GeoJSON Daten http://opendatalab.de/projects/geojson-utilities/\n",
    "\n",
    "GPX Editor Online https://www.gpxeditor.co.uk/map\n",
    "GPX Tracks http://www.bikehike.co.uk/mapview.php\n",
    "\n",
    "For GPS see http://research.ganse.org/datasci/gps/\n",
    "\n",
    "GPS Viewer https://www.j-berkemeier.de/GPXViewer/"
   ]
  },
  {
   "cell_type": "markdown",
   "metadata": {},
   "source": [
    "# Create base map for Hemmingen\n",
    "Tipps: ScaleControl is not compatible with embed_html"
   ]
  },
  {
   "cell_type": "code",
   "execution_count": 1,
   "metadata": {},
   "outputs": [
    {
     "data": {
      "application/vnd.jupyter.widget-view+json": {
       "model_id": "8fba4dfd2d3046e18e2c19ac12906e66",
       "version_major": 2,
       "version_minor": 0
      },
      "text/plain": [
       "Map(center=[52.3, 9.73], controls=(ZoomControl(options=['position', 'zoom_in_text', 'zoom_in_title', 'zoom_out…"
      ]
     },
     "metadata": {},
     "output_type": "display_data"
    }
   ],
   "source": [
    "# conda install -c conda-forge ipyleaflet \n",
    "## or\n",
    "# conda config --add channels conda-forge\n",
    "# conda install ipyleaflet \n",
    "from ipyleaflet import Map, basemaps, FullScreenControl, LayersControl, ScaleControl\n",
    "from sidecar import Sidecar\n",
    "\n",
    "def mapselection(i):\n",
    "    switcher={\n",
    "                0:basemaps.OpenStreetMap.Mapnik,\n",
    "                1:basemaps.Esri.WorldImagery,\n",
    "             }\n",
    "    return switcher.get(i,\"Invalid value of mapselection\")\n",
    "\n",
    "center = (52.30, 9.73)\n",
    "zoom = 13\n",
    "basemap = mapselection(1)\n",
    "\n",
    "m = None\n",
    "m = Map(basemap=basemap,center=center, zoom=zoom, scroll_wheel_zoom=True)\n",
    "m.layout.height='800px'\n",
    "m.layout.width='800px'\n",
    "\n",
    "# add controls\n",
    "m.add_control(FullScreenControl(position='topleft'))\n",
    "m.add_control(LayersControl(position='topleft'))\n",
    "\n",
    "'''sc = Sidecar(title='Sidecar Output')\n",
    "with sc:\n",
    "    display(m)\n",
    "'''\n",
    "m"
   ]
  },
  {
   "cell_type": "code",
   "execution_count": 2,
   "metadata": {},
   "outputs": [
    {
     "data": {
      "text/plain": [
       "'from ipyleaflet import SplitMapControl, basemap_to_tiles\\n\\nright_layer = basemap_to_tiles(basemaps.Esri.WorldImagery)\\nleft_layer = basemap_to_tiles(basemaps.OpenStreetMap.Mapnik)\\n\\ncontrol = SplitMapControl(left_layer=left_layer, right_layer=right_layer)\\nm.add_control(control)\\nm\\n'"
      ]
     },
     "execution_count": 2,
     "metadata": {},
     "output_type": "execute_result"
    }
   ],
   "source": [
    "'''from ipyleaflet import SplitMapControl, basemap_to_tiles\n",
    "\n",
    "right_layer = basemap_to_tiles(basemaps.Esri.WorldImagery)\n",
    "left_layer = basemap_to_tiles(basemaps.OpenStreetMap.Mapnik)\n",
    "\n",
    "control = SplitMapControl(left_layer=left_layer, right_layer=right_layer)\n",
    "m.add_control(control)\n",
    "m\n",
    "'''"
   ]
  },
  {
   "cell_type": "code",
   "execution_count": 3,
   "metadata": {},
   "outputs": [],
   "source": [
    "from ipyleaflet import basemap_to_tiles\n",
    "\n",
    "satellit = basemap_to_tiles(basemaps.OpenStreetMap.Mapnik)\n",
    "m.add_layer(satellit)"
   ]
  },
  {
   "cell_type": "markdown",
   "metadata": {},
   "source": [
    "# Load and show Borders"
   ]
  },
  {
   "cell_type": "code",
   "execution_count": 4,
   "metadata": {},
   "outputs": [
    {
     "data": {
      "text/plain": [
       "['Grenzen\\\\Hemmingen.gpx', 'Grenzen\\\\Pattensen.gpx']"
      ]
     },
     "execution_count": 4,
     "metadata": {},
     "output_type": "execute_result"
    }
   ],
   "source": [
    "## Read all Border files\n",
    "from os import listdir\n",
    "from os.path import isfile, join\n",
    "\n",
    "GrenzPath = 'Grenzen'\n",
    "\n",
    "Grenzfiles = [join(GrenzPath,f) for f in listdir(GrenzPath) if isfile(join(GrenzPath, f))]\n",
    "Grenzfiles"
   ]
  },
  {
   "cell_type": "code",
   "execution_count": 5,
   "metadata": {},
   "outputs": [],
   "source": [
    "# >conda install -c conda-forge gpxpy\n",
    "\n",
    "from ipyleaflet import  Polyline\n",
    "import gpxpy\n",
    "import gpxpy.gpx\n",
    "import re\n",
    "from ipywidgets import HTML\n",
    "from ipyleaflet import MarkerCluster\n",
    "\n",
    "grenzen = []\n",
    "for file in Grenzfiles:\n",
    "    gpxfilefp = open(file, 'r', encoding='utf-8-sig') #use sig if file has Byte Order Mark (BOM)\n",
    "    gpx = gpxpy.parse(gpxfilefp)\n",
    "\n",
    "    data = [[i.latitude, i.longitude] for i in gpx.tracks[0].segments[0].points]\n",
    "\n",
    "    line = Polyline(\n",
    "        name = 'Grenzen',\n",
    "        locations=data,\n",
    "        color=\"orange\",\n",
    "        opacity = 0.5,\n",
    "        weight = 5,\n",
    "        fill=False\n",
    "    )\n",
    "\n",
    "    match = re.search('\\\\\\\\(.+?)\\.', file)\n",
    "    if match:\n",
    "        found = match.group(1)\n",
    "    \n",
    "    Poptext = HTML()\n",
    "    Poptext.value = found\n",
    "    line.popup = Poptext\n",
    "\n",
    "    # m.add_layer(ant_path)\n",
    "\n",
    "    grenzen.append(line)\n",
    "    \n",
    "GrenzenCluster = MarkerCluster(name = 'Grenzverläufe', markers= grenzen)\n",
    "m.add_layer(GrenzenCluster);\n",
    "\n",
    "m;"
   ]
  },
  {
   "cell_type": "markdown",
   "metadata": {},
   "source": [
    "# ADFC Icon and FSW Location"
   ]
  },
  {
   "cell_type": "code",
   "execution_count": 6,
   "metadata": {},
   "outputs": [
    {
     "data": {
      "text/plain": [
       "'img\\\\ADFCLogo.png'"
      ]
     },
     "execution_count": 6,
     "metadata": {},
     "output_type": "execute_result"
    }
   ],
   "source": [
    "from ipyleaflet import Icon, Marker\n",
    "\n",
    "iconPos = (52.326298, 9.676757)\n",
    "icon = Icon(icon_url='img\\ADFCLogo.png', icon_size=[120, 40])\n",
    "markIcon = Marker(name='Icon',location=iconPos, icon=icon)\n",
    "icon.icon_url"
   ]
  },
  {
   "cell_type": "code",
   "execution_count": 7,
   "metadata": {},
   "outputs": [],
   "source": [
    "from ipywidgets import HTML\n",
    "from ipyleaflet import AwesomeIcon, Marker\n",
    "\n",
    "locFSW = (52.319109, 9.723495)\n",
    "\n",
    "# icon\n",
    "iconGear = AwesomeIcon(\n",
    "    name='gear',\n",
    "    marker_color='blue',\n",
    "    icon_color='darkred',\n",
    "    spin=True\n",
    ")\n",
    "\n",
    "markerFSW = Marker( icon=iconGear, \n",
    "                    draggable= False,\n",
    "                    location=locFSW,\n",
    "                    title = 'klick mich')\n",
    "\n",
    "# Popup Window\n",
    "htmlFSW = HTML()\n",
    "htmlFSW.value = '''<a href=\"http://adfc-hemmingen-pattensen.github.io/\" \n",
    "                    target=\"_blank\">ADFC Selbsthilfe-Werkstatt</a>'''\n",
    "markerFSW.popup = htmlFSW"
   ]
  },
  {
   "cell_type": "code",
   "execution_count": 10,
   "metadata": {},
   "outputs": [],
   "source": [
    "from ipywidgets import HTML\n",
    "from ipyleaflet import MarkerCluster\n",
    "\n",
    "ADFC_cluster = MarkerCluster(\n",
    "    name = 'ADFC Info',\n",
    "    markers=(markerFSW, markIcon)\n",
    ")\n",
    "\n",
    "\n",
    "\n",
    "m.add_layer(ADFC_cluster);\n",
    "    \n",
    "m;"
   ]
  },
  {
   "cell_type": "markdown",
   "metadata": {},
   "source": [
    "# Where I am?"
   ]
  },
  {
   "cell_type": "code",
   "execution_count": 11,
   "metadata": {},
   "outputs": [],
   "source": [
    "# >pip install openlocationcode\n",
    "\n",
    "from openlocationcode import openlocationcode as olc\n",
    "import ipywidgets as widgets\n",
    "\n",
    "activ = False\n",
    "\n",
    "if activ:\n",
    "\n",
    "    ## Think about https://ipywidgets.readthedocs.io/en/stable/examples/Widget%20Custom.html\n",
    "\n",
    "    def convert(event):\n",
    "        coor = event['new']\n",
    "        olcX = olc.encode(coor[0],coor[1])\n",
    "        olcX = olc.shorten(olcX, 52.3, 9.7)\n",
    "        out = \"OLC: {} - Lat: {:02.6f} : Lng: {:02.6f}\".format(olcX, coor[0],coor[1])\n",
    "        w.value = out\n",
    "\n",
    "\n",
    "    def convertw(event):\n",
    "        coor = event['new'].split(\",\")\n",
    "        olcX = olc.encode(float(coor[0]),float(coor[1]))\n",
    "        olcX = olc.shorten(olcX, 52.3, 9.7)\n",
    "        out = \"OLC: {} - Lat: {:02.6f} : Lng: {:02.6f}\".format(olcX, float(coor[0]),float(coor[1]))\n",
    "        w.value = out\n",
    "\n",
    "    def convertxx(*args, **kwargs): # for on_move\n",
    "        coor = kwargs['location']\n",
    "        olcX = olc.encode(coor[0],coor[1])\n",
    "        olcX = olc.shorten(olcX, 52.3, 9.7)\n",
    "        out = \"OLC: {} - Lat: {:02.6f} : Lng: {:02.6f}\".format(olcX, coor[0],coor[1])\n",
    "        w.value = out\n",
    "\n",
    "    # icon\n",
    "    iconQuestion = AwesomeIcon(\n",
    "        name='fa-question',\n",
    "        marker_color='red',\n",
    "        icon_color='yellow',\n",
    "        spin=False\n",
    "    )\n",
    "\n",
    "    markerX = Marker( location=center,\n",
    "                     icon = iconQuestion,\n",
    "                     name='Wo bin ich?',\n",
    "                      draggable= True,\n",
    "                      title = 'zieh mich')\n",
    "\n",
    "\n",
    "    w=widgets.Text(\n",
    "        value='Ziehen am ? ergibt Position',\n",
    "        placeholder='Type something',\n",
    "        disabled=False\n",
    "    )\n",
    "\n",
    "    markerX.observe(convert, 'location')\n",
    "    #w.observe(convertw, 'value')\n",
    "\n",
    "    dl = widgets.jsdlink((markerX, 'location'), (w, 'value')) # unidirectional\n",
    "\n",
    "    m.add_layer(markerX)\n",
    "    #m.add_control(w)\n",
    "\n",
    "    display(w,m)"
   ]
  },
  {
   "cell_type": "markdown",
   "metadata": {},
   "source": [
    "# Verbingungswünsche\n",
    "\n",
    "pass GPX file"
   ]
  },
  {
   "cell_type": "code",
   "execution_count": 12,
   "metadata": {},
   "outputs": [
    {
     "data": {
      "text/plain": [
       "['Maengel\\\\7M9R+3Xtrk.gpx',\n",
       " 'Maengel\\\\7PPR+3Ctrk.gpx',\n",
       " 'Maengel\\\\7PVG+Q8trk.gpx',\n",
       " 'Maengel\\\\8P3H+3Htrk.gpx',\n",
       " 'Maengel\\\\8P5P+FRtrk.gpx',\n",
       " 'Maengel\\\\8P78+49trk.gpx',\n",
       " 'Maengel\\\\8P7G+GJtrk.gpx',\n",
       " 'Maengel\\\\8P7H+45trk.gpx',\n",
       " 'Maengel\\\\8P9M+W2trk.gpx',\n",
       " 'Maengel\\\\8PGV+4Ctrk.gpx',\n",
       " 'Maengel\\\\8PJM+VWtrk.gpx',\n",
       " 'Maengel\\\\8Q5G+F7trk.gpx',\n",
       " 'Maengel\\\\8Q77+69trk.gpx',\n",
       " 'Maengel\\\\8QF4+62trk.gpx',\n",
       " 'Maengel\\\\Karte01trk.gpx',\n",
       " 'Maengel\\\\Karte02trk.gpx',\n",
       " 'Maengel\\\\Karte03trk.gpx',\n",
       " 'Maengel\\\\Karte04trk.gpx',\n",
       " 'Maengel\\\\Karte05trk.gpx',\n",
       " 'Maengel\\\\Karte06trk.gpx',\n",
       " 'Maengel\\\\Karte07trk.gpx',\n",
       " 'Maengel\\\\Karte08trk.gpx',\n",
       " 'Maengel\\\\Karte09trk.gpx',\n",
       " 'Maengel\\\\Karte10trk.gpx',\n",
       " 'Maengel\\\\Karte11trk.gpx',\n",
       " 'Maengel\\\\Karte12trk.gpx',\n",
       " 'Maengel\\\\Karte13trk.gpx',\n",
       " 'Maengel\\\\Karte14trk.gpx']"
      ]
     },
     "execution_count": 12,
     "metadata": {},
     "output_type": "execute_result"
    }
   ],
   "source": [
    "## Read all Route file\n",
    "from os import listdir\n",
    "from os.path import isfile, join\n",
    "\n",
    "WunschPath = 'Maengel'\n",
    "\n",
    "wunschfiles = [join(WunschPath,f) for f in listdir(WunschPath) if isfile(join(WunschPath, f))]\n",
    "wunschfiles"
   ]
  },
  {
   "cell_type": "code",
   "execution_count": 13,
   "metadata": {},
   "outputs": [],
   "source": [
    "# >conda install gpxpy\n",
    "\n",
    "from ipyleaflet import  Polyline\n",
    "import gpxpy\n",
    "import gpxpy.gpx\n",
    "import re\n",
    "\n",
    "wuensche = []\n",
    "for file in wunschfiles:\n",
    "    gpxfilefp = open(file, 'r', encoding='utf-8-sig') #use sig if file has Byte Order Mark (BOM)\n",
    "    gpx = gpxpy.parse(gpxfilefp)\n",
    "\n",
    "    data = [[i.latitude, i.longitude] for i in gpx.tracks[0].segments[0].points]\n",
    "\n",
    "    line = Polyline(\n",
    "        name = 'Wunschverbindungen',\n",
    "        locations=data,\n",
    "        color=\"red\",\n",
    "        weight =3,\n",
    "        fill=False\n",
    "    )\n",
    "\n",
    "    match = re.search('\\\\\\\\(.+?)\\.', file)\n",
    "    if match:\n",
    "        found = match.group(1)\n",
    "    \n",
    "    Poptext = HTML()\n",
    "    Poptext.value = found\n",
    "    line.popup = Poptext\n",
    "\n",
    "    # m.add_layer(ant_path)\n",
    "\n",
    "    wuensche.append(line)\n",
    "WunschCluster = MarkerCluster(name = 'Wünsche', markers= wuensche)\n",
    "m.add_layer(WunschCluster);\n",
    "\n",
    "m;"
   ]
  },
  {
   "cell_type": "markdown",
   "metadata": {},
   "source": [
    "# Load Excel as dataframe"
   ]
  },
  {
   "cell_type": "code",
   "execution_count": 14,
   "metadata": {},
   "outputs": [
    {
     "data": {
      "text/plain": [
       "'Geforderter Lückenschluss aus Radverkehrskonzept 2015.\\n\\n![](8P7H+35_Radverkehrskonzept_Lücken.png)'"
      ]
     },
     "execution_count": 14,
     "metadata": {},
     "output_type": "execute_result"
    }
   ],
   "source": [
    "import pandas as pd\n",
    "\n",
    "df = pd.read_excel(r'Maengelliste.xlsx', sheet_name='Sheet1', skiprows=5, header=0)\n",
    "df[\"Mangel\"][152]"
   ]
  },
  {
   "cell_type": "code",
   "execution_count": 15,
   "metadata": {},
   "outputs": [
    {
     "data": {
      "text/plain": [
       "pandas.core.series.Series"
      ]
     },
     "execution_count": 15,
     "metadata": {},
     "output_type": "execute_result"
    }
   ],
   "source": [
    "type(df['Titel'])"
   ]
  },
  {
   "cell_type": "markdown",
   "metadata": {},
   "source": [
    "# Decode Open Location Code\n",
    "https://plus.codes/"
   ]
  },
  {
   "cell_type": "code",
   "execution_count": 16,
   "metadata": {},
   "outputs": [],
   "source": [
    "css = \"\"\"\n",
    "<style>\n",
    "h1 {\n",
    "  font-weight: bold;\n",
    "  color: #000;\n",
    "  font-size: 14px;\n",
    "}\n",
    "\n",
    "h2 {\n",
    "  font-weight: bold;\n",
    "  color: #000;\n",
    "  font-size: 13px;\n",
    "}\n",
    "h3 {\n",
    "  font-weight: bold;\n",
    "  color: #000;\n",
    "  font-size: 12px;\n",
    "}\n",
    "</style>\n",
    "\"\"\""
   ]
  },
  {
   "cell_type": "code",
   "execution_count": 17,
   "metadata": {},
   "outputs": [],
   "source": [
    "import urllib.parse\n",
    "\n",
    "def buildMarkdownText(df,i):\n",
    "    plusCode = str(df.loc[i,'PlusCode'])\n",
    "    RawTitel = str(df.loc[i,'Titel'])\n",
    " \n",
    "    anchor = '<a name=\"{}\"></a>\\n\\n'.format(str(i))\n",
    "    TextTitel = \"# {}\\n\\n\".format(RawTitel)\n",
    "    if type(TextTitel) != str:\n",
    "        TextTitel =  '*Kein Titel vorhanden*\\n\\n'\n",
    "    \n",
    "    BaseURL = \"https://adfc-hemmingen-pattensen.github.io/MaengelKarte/index.html\"\n",
    "    GMapURL = \"https://www.google.com/maps/search/?api=1&query=9F4F{}%2B{}\".format(plusCode[:4],plusCode[-2:])\n",
    "    TextPlusCode = \"- Plus Code: [{}]({})\\n\".format(plusCode,GMapURL)\n",
    "\n",
    "    Mängelliste = '- Mängelliste: [Link]({})\\n'.format(BaseURL+'#'+str(i))\n",
    "    Einstelldatum = \"- Einstelldatum: {}\\n\".format(str(df.loc[i,'Einstelldatum'])[:10])\n",
    "    Informationsquelle = \"- Informationsquelle: {}\\n\".format(str(df.loc[i,'Informationsquelle']))\n",
    "    Ortsbeschreibung = \"\\n### Ortsbeschreibung:\\n\\n {}\\n\".format(str(df.loc[i,'Ortsbeschreibung']))\n",
    "    Mangel = \"\\n### Mangel:\\n\\n {}\\n\".format(str(df.loc[i,'Mangel']))\n",
    "    Maßnahmenvorschlag = \"\\n### Maßnahmenvorschlag:\\n\\n {}\\n\".format(str(df.loc[i,'Maßnahmenvorschlag']))\n",
    "    Status = \"\\n### Status:\\n\\n {}\\n\".format(str(df.loc[i,'Status']))\n",
    "    hr = \"\\n---\\n\"\n",
    "    \n",
    "    return( anchor\n",
    "           +TextTitel\n",
    "           +TextPlusCode\n",
    "           +Mängelliste\n",
    "           +Einstelldatum\n",
    "           +Informationsquelle\n",
    "           +Ortsbeschreibung\n",
    "           +Mangel\n",
    "           +Maßnahmenvorschlag\n",
    "           +Status\n",
    "           +hr\n",
    "          ) "
   ]
  },
  {
   "cell_type": "code",
   "execution_count": 18,
   "metadata": {},
   "outputs": [],
   "source": [
    "### Create GPX Waypoint file <== New 2020-05-16-Sa JSp\n",
    "#        fname = r\"GPSOutput/{}wpt.gpx\".format(short)\n",
    "#        wptname = short\n",
    "#        j = 1\n",
    "#        while os.path.exists(fname):\n",
    "#            fname = r\"GPSOutput/{}wpt{:02d}.gpx\".format(short,j)\n",
    "#            wptname = r\"{}.{:02d}\".format(short,j)\n",
    "#            j += 1#\n",
    "#\n",
    "#        print(fname,df.loc[i,'Ortsbeschreibung'] )\n",
    "#        gpxfilefp = open(fname, 'w', encoding='utf-8-sig') #use sig if file has Byte Order Mark (BOM)\n",
    "#        \n",
    "#        gpx = gpxpy.gpx.GPX()\n",
    "#\n",
    "#        wpt = gpxpy.gpx.GPXWaypoint(latitude = coor.latitudeCenter,\n",
    "#                                    longitude=coor.longitudeCenter)\n",
    "#        wpt.name = wptname\n",
    "#        description = \"# Plus Code (0pen Location Code): {} Hemmingen/Pattensen\\n\\n\".format(short)\n",
    "#        description += \"- Einstelldatum: {}\\n\".format(df.loc[i,'Einstelldatum'])\n",
    "#        description += \"- Ersteller: ADFC-Hemmingen/Pattensen\\n\"\n",
    "#        description += \"- Verantwortlich: {}\\n\".format(df.loc[i,'Hoheitsgebiet'])\n",
    "#        description += \"- Koordinaten: {}, {}\\n\\n\".format(coor.latitudeCenter, coor.longitudeCenter)\n",
    "#        description += \"## Ortsbezeichnung\\n{}\\n\\n\".format(df.loc[i,'Ortsbeschreibung'])\n",
    "#        description += \"## Mangel\\n{}\\n\\n\".format(df.loc[i,'Vorschlag'])\n",
    "#        description += \"## Mögliche Maßnahme\\n\\n\"\n",
    "#        description += \"## Status\\n{}\\n\\n\".format(\"offen\")\n",
    "#        \n",
    "#        wpt.description = description\n",
    "#        \n",
    "#        TextLink = df.loc[i,'Links']\n",
    "#        if type(TextLink) == str:\n",
    "#            wpt.link = df.loc[i,'Links']\n",
    "#        gpx.waypoints.append(wpt)\n",
    "#       \n",
    "#        gpxfilefp.write(gpx.to_xml())\n",
    "#        gpxfilefp.close()"
   ]
  },
  {
   "cell_type": "code",
   "execution_count": 28,
   "metadata": {},
   "outputs": [
    {
     "name": "stdout",
     "output_type": "stream",
     "text": [
      "Anzahl der Mängel 239\n",
      "184 185 186 187 188 189 190 191 192 193 194 195 196 197 198 199 200 201 202 203 204 205 206 207 208 209 210 211 212 213 214 215 216 217 218 219 220 221 222 223 224 225 226 227 228 229 230 231 232 233 234 235 236 237 238 239 240 241 242 243 244 245 "
     ]
    },
    {
     "data": {
      "application/vnd.jupyter.widget-view+json": {
       "model_id": "8fba4dfd2d3046e18e2c19ac12906e66",
       "version_major": 2,
       "version_minor": 0
      },
      "text/plain": [
       "Map(center=[52.30449013600825, 9.70770835876465], controls=(ZoomControl(options=['position', 'zoom_in_text', '…"
      ]
     },
     "metadata": {},
     "output_type": "display_data"
    }
   ],
   "source": [
    "# extract and convert 1st row  - openlocationcode \n",
    "# pip install openlocationcode\n",
    "from openlocationcode import openlocationcode as olc\n",
    "import os.path\n",
    "from markdown import markdown\n",
    "import re\n",
    "\n",
    "regexMarkdownImg = re.compile(r\"!\\[(.*?)\\]\\((.*?)\\)\", re.IGNORECASE) #https://www.regexpal.com/95855\n",
    "\n",
    "icon = Icon(icon_url='img\\pin_red.png', \n",
    "            icon_size=[281/15,641/15], \n",
    "            icon_anchor=[281/30,641/15])\n",
    "\n",
    "AnzahlMarkers = len(df['PlusCode'])\n",
    "print('Anzahl der Mängel {0}'.format(AnzahlMarkers))\n",
    "\n",
    "allMDdescriptions = \"\"\n",
    "\n",
    "markerMaengel = []\n",
    "for i in range(0,AnzahlMarkers):\n",
    "\n",
    "    # read OLC\n",
    "    short = df.loc[i,'PlusCode'][:7]\n",
    "    if olc.isValid(short): \n",
    "        \n",
    "        mdText = buildMarkdownText(df,i)\n",
    "        \n",
    "        subMDimg = r'![\\1](img\\\\\\2)'\n",
    "        allMDdescriptions += regexMarkdownImg.sub(subMDimg, mdText)+\"\\n\"\n",
    "        \n",
    "        # replace md img with html img and use width\n",
    "        subHTMLimg = r'<img src=\"https://adfc-hemmingen-pattensen.github.io/MaengelKarte/img/\\2\" width=\"300\">'\n",
    "        mdTextPopUp = regexMarkdownImg.sub(subHTMLimg, mdText)\n",
    "        \n",
    "        htmlDescription = HTML()\n",
    "        htmlDescription.value = css+'<div>'+markdown(mdTextPopUp)+'</div>'\n",
    "        \n",
    " #       if i ==152:\n",
    " #           htmlDescription.value = css+'<div>'+markdown(mdTextPopUp[:1000])+'\\n\\n Mehr siehe Link</div>'\n",
    " #           print(htmlDescription.value)\n",
    "\n",
    "        # convert OLC to Lat,Lon\n",
    "        long = olc.recoverNearest(short, 52.30, 9.73)\n",
    "        coor = olc.decode(long)\n",
    "        pos =(coor.latitudeCenter, coor.longitudeCenter)\n",
    "        \n",
    "        markerMangel = Marker(title=\"klick\",\n",
    "                              location=pos, \n",
    "                              icon=icon, \n",
    "                              draggable=False, \n",
    "                              rotation_angle=20, \n",
    "                              rotation_origin='bottom center'\n",
    "                              )\n",
    "        \n",
    "        markerMangel.popup = htmlDescription\n",
    "        ## check https://ipyleaflet.readthedocs.io/en/latest/api_reference/popup.html\n",
    "        markerMangel.popup_min_width = 500\n",
    "        markerMangel.popup_max_height = 500\n",
    "\n",
    "        markerMaengel.append(markerMangel)\n",
    "        \n",
    "\n",
    "        \n",
    "    else:\n",
    "        print(i+7, end=\" \")\n",
    "\n",
    "f = open('maengel.md', 'w',encoding='utf8')\n",
    "f.write(allMDdescriptions)\n",
    "f.close()\n",
    "        \n",
    "MaengelCluster = MarkerCluster(name = 'Maengel', markers= markerMaengel)\n",
    "\n",
    "m.add_layer(MaengelCluster);\n",
    "    \n",
    "m\n",
    "#markerMangel.popup.min_width\n"
   ]
  },
  {
   "cell_type": "code",
   "execution_count": 29,
   "metadata": {},
   "outputs": [
    {
     "data": {
      "text/plain": [
       "['Routen\\\\Route01.gpx',\n",
       " 'Routen\\\\Route02.gpx',\n",
       " 'Routen\\\\Route03.gpx',\n",
       " 'Routen\\\\Route04.gpx',\n",
       " 'Routen\\\\Route05.gpx',\n",
       " 'Routen\\\\Route06.gpx',\n",
       " 'Routen\\\\Route07.gpx',\n",
       " 'Routen\\\\Route08.gpx',\n",
       " 'Routen\\\\Route09.gpx',\n",
       " 'Routen\\\\Route10.gpx']"
      ]
     },
     "execution_count": 29,
     "metadata": {},
     "output_type": "execute_result"
    }
   ],
   "source": [
    "## Read all Route file\n",
    "from os import listdir\n",
    "from os.path import isfile, join\n",
    "\n",
    "RoutenPath = 'Routen'\n",
    "\n",
    "onlyfiles = [join(RoutenPath,f) for f in listdir(RoutenPath) if isfile(join(RoutenPath, f))]\n",
    "onlyfiles"
   ]
  },
  {
   "cell_type": "code",
   "execution_count": 26,
   "metadata": {},
   "outputs": [
    {
     "data": {
      "application/vnd.jupyter.widget-view+json": {
       "model_id": "8fba4dfd2d3046e18e2c19ac12906e66",
       "version_major": 2,
       "version_minor": 0
      },
      "text/plain": [
       "Map(center=[52.30449013600825, 9.70770835876465], controls=(ZoomControl(options=['position', 'zoom_in_text', '…"
      ]
     },
     "metadata": {},
     "output_type": "display_data"
    }
   ],
   "source": [
    "from ipyleaflet import  AntPath\n",
    "import gpxpy\n",
    "import gpxpy.gpx\n",
    "\n",
    "Routen = []\n",
    "for file in onlyfiles:\n",
    "    gpxfilefp = open(file, 'r', encoding='utf-8-sig') #use sig if file has Byte Order Mark (BOM)\n",
    "    gpx = gpxpy.parse(gpxfilefp)\n",
    "\n",
    "    data = [[i.latitude, i.longitude] for i in gpx.tracks[0].segments[0].points]\n",
    "\n",
    "    match = re.search('\\\\\\\\(.+?)\\.', file)\n",
    "    if match:\n",
    "        found = match.group(1)\n",
    "        \n",
    "    ant_path = AntPath(\n",
    "        name = found,\n",
    "        title = found,\n",
    "        locations=data,\n",
    "        dash_array=[1, 10],\n",
    "        delay=1000,\n",
    "        color='#7590ba',\n",
    "        pulse_color='#3f6fba'\n",
    "    )\n",
    "\n",
    "        \n",
    "    Poptext = HTML()\n",
    "    Poptext.value = found\n",
    "    ant_path.popup = Poptext\n",
    "\n",
    "    m.add_layer(ant_path)\n",
    "    #m.layers[15].paused = True #pause animation\n",
    "\n",
    "    #Routen.append(ant_path)\n",
    "#RoutenCluster = MarkerCluster(name = 'Routen', markers= Routen)\n",
    "#m.add_layer(RoutenCluster);\n",
    "\n",
    "m"
   ]
  },
  {
   "cell_type": "markdown",
   "metadata": {},
   "source": [
    "# Save as HTML and show in Browser\n",
    "#https://ipywidgets.readthedocs.io/en/latest/embedding.html#python-interface"
   ]
  },
  {
   "cell_type": "code",
   "execution_count": 27,
   "metadata": {},
   "outputs": [],
   "source": [
    "from ipywidgets.embed import embed_minimal_html #, dependency_state\n",
    "\n",
    "embed_minimal_html('ADFC-Map.html', views=[m], title='ADFC Hem/Pat Karte')\n",
    "\n",
    "# Start browser\n",
    "!c:\\DataADFC\\adfc-github\\adfc-hemmingen-pattensen.github.io\\MaengelKarte\\ADFC-Map.html"
   ]
  },
  {
   "cell_type": "markdown",
   "metadata": {},
   "source": [
    "# Backup Cells ( Ideas, Test, etc.)"
   ]
  },
  {
   "cell_type": "code",
   "execution_count": 21,
   "metadata": {},
   "outputs": [
    {
     "data": {
      "text/plain": [
       "'Genauigkeit \\tNachkommastellen gg,ggg\\n10 m \\t4 \\n1 m \\t5\\n0,1 m \\t6 \\n'"
      ]
     },
     "execution_count": 21,
     "metadata": {},
     "output_type": "execute_result"
    }
   ],
   "source": [
    "# pip install rdp\n",
    "# https://github.com/fhirschmann/rdp\n",
    "\n",
    "\"\"\"Genauigkeit \tNachkommastellen gg,ggg\n",
    "10 m \t4 \n",
    "1 m \t5\n",
    "0,1 m \t6 \n",
    "\"\"\"\n",
    "\n",
    "# from rdp import rdp\n",
    "\n",
    "# Ramer-Douglas-Peucker Algorithm\n",
    "# BorderHemSimply = rdp(BorderHem, epsilon=1e-5)\n",
    "\n",
    "# print(BorderHem.shape)\n",
    "# print(BorderHemSimply.shape)\n",
    "#np.savetxt('BorderHemTemp.txt',BorderHemSimply,fmt='%1.6f')"
   ]
  },
  {
   "cell_type": "code",
   "execution_count": null,
   "metadata": {},
   "outputs": [],
   "source": []
  }
 ],
 "metadata": {
  "kernelspec": {
   "display_name": "Python 3",
   "language": "python",
   "name": "python3"
  },
  "language_info": {
   "codemirror_mode": {
    "name": "ipython",
    "version": 3
   },
   "file_extension": ".py",
   "mimetype": "text/x-python",
   "name": "python",
   "nbconvert_exporter": "python",
   "pygments_lexer": "ipython3",
   "version": "3.7.6"
  }
 },
 "nbformat": 4,
 "nbformat_minor": 4
}
