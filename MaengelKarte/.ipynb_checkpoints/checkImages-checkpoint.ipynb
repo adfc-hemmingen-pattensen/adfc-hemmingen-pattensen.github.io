{
 "cells": [
  {
   "cell_type": "markdown",
   "metadata": {},
   "source": [
    "## checkImages"
   ]
  },
  {
   "cell_type": "code",
   "execution_count": 6,
   "metadata": {},
   "outputs": [
    {
     "data": {
      "text/plain": [
       "['MaengelKarte\\\\img\\\\8P9M+QW_RadwegWeetzenerLandstraße.jpg',\n",
       " 'MaengelKarte\\\\img\\\\8PFW+JW_Absenkung Dorfstr. auf Berliner Str.jpg',\n",
       " 'MaengelKarte\\\\img\\\\8PGG+VC_ArtikelAusHannoRadAusgabe2019-3.jpg',\n",
       " 'MaengelKarte\\\\img\\\\8PGG+VC_Köllnbrinkweg.jpg',\n",
       " 'MaengelKarte\\\\img\\\\8PGR+7W_Lösung.jpg',\n",
       " 'MaengelKarte\\\\img\\\\8PHG+RW_AmSiek_PflasterAbgesackt.jpg']"
      ]
     },
     "execution_count": 6,
     "metadata": {},
     "output_type": "execute_result"
    }
   ],
   "source": [
    "import os \n",
    " \n",
    "path = os.getcwd()\n",
    "fileExt = \"jpg\"\n",
    "\n",
    "allPngs = [os.path.join(d,f) for d,_,fl in os.walk(path) for f in fl if f.endswith(fileExt)]\n",
    "\n",
    "st = len(\"c:\\\\DataADFC\\\\adfc-github\\\\adfc-hemmingen-pattensen.github.io\\\\\")\n",
    "\n",
    "pngfiles = [png[st:] for png in allPngs]\n",
    "pngfiles"
   ]
  },
  {
   "cell_type": "code",
   "execution_count": 2,
   "metadata": {},
   "outputs": [],
   "source": [
    "all = [f for f in os.listdir(os.getcwd()) if os.path.isfile(os.path.join(os.getcwd(), f))  ]\n",
    "allMDfiles = [x for x in all if x.endswith(\"md\")]"
   ]
  },
  {
   "cell_type": "code",
   "execution_count": 3,
   "metadata": {},
   "outputs": [
    {
     "data": {
      "text/plain": [
       "['img\\\\8P9M+QW_RadwegWeetzenerLandstraße.jpg',\n",
       " 'img\\\\8PFW+JW_Absenkung Dorfstr. auf Berliner Str.jpg',\n",
       " 'img\\\\8PGG+VC_Köllnbrinkweg.jpg',\n",
       " 'img\\\\8PGG+VC_ArtikelAusHannoRadAusgabe2019-3.jpg',\n",
       " 'img\\\\8PGR+7W_Lösung.jpg']"
      ]
     },
     "execution_count": 3,
     "metadata": {},
     "output_type": "execute_result"
    }
   ],
   "source": [
    "import re\n",
    "\n",
    "pngRefs = []\n",
    "for f in allMDfiles:\n",
    "    md = open(f, \"r\", encoding='utf8').read()\n",
    "    refs = re.findall( r'\\[.*\\]\\((.*?.{}).*?\\)'.format(fileExt), md)\n",
    "    ref = [ref for ref in refs if ref[:4] != \"http\"]\n",
    "    pngRefs.append(ref)\n",
    "flatlist = [j for sub in pngRefs for j in sub]\n",
    "\n",
    "foundpngs = []\n",
    "for entry in flatlist:\n",
    "    foundpngs.append(entry.replace('/', '\\\\'))\n",
    "                                   \n",
    "foundpngs[:5]"
   ]
  },
  {
   "cell_type": "code",
   "execution_count": 4,
   "metadata": {},
   "outputs": [
    {
     "data": {
      "text/plain": [
       "['img\\\\8P9M+QW_RadwegWeetzenerLandstraße.jpg',\n",
       " 'img\\\\8PFW+JW_Absenkung Dorfstr. auf Berliner Str.jpg',\n",
       " 'img\\\\8PGG+VC_Köllnbrinkweg.jpg',\n",
       " 'img\\\\8PGG+VC_ArtikelAusHannoRadAusgabe2019-3.jpg',\n",
       " 'img\\\\8PGR+7W_Lösung.jpg',\n",
       " 'img\\\\8PHG+RW_AmSiek_PflasterAbgesackt.jpg']"
      ]
     },
     "execution_count": 4,
     "metadata": {},
     "output_type": "execute_result"
    }
   ],
   "source": [
    "# in *.md but not in img\n",
    "[x for x in foundpngs if x not in pngfiles]"
   ]
  },
  {
   "cell_type": "code",
   "execution_count": 5,
   "metadata": {},
   "outputs": [
    {
     "data": {
      "text/plain": [
       "['MaengelKarte\\\\img\\\\8P9M+QW_RadwegWeetzenerLandstraße.jpg',\n",
       " 'MaengelKarte\\\\img\\\\8PFW+JW_Absenkung Dorfstr. auf Berliner Str.jpg',\n",
       " 'MaengelKarte\\\\img\\\\8PGG+VC_ArtikelAusHannoRadAusgabe2019-3.jpg',\n",
       " 'MaengelKarte\\\\img\\\\8PGG+VC_Köllnbrinkweg.jpg',\n",
       " 'MaengelKarte\\\\img\\\\8PGR+7W_Lösung.jpg',\n",
       " 'MaengelKarte\\\\img\\\\8PHG+RW_AmSiek_PflasterAbgesackt.jpg']"
      ]
     },
     "execution_count": 5,
     "metadata": {},
     "output_type": "execute_result"
    }
   ],
   "source": [
    "# in \"img\" but not in *.md\n",
    "[x for x in pngfiles if x not in  foundpngs ]"
   ]
  },
  {
   "cell_type": "code",
   "execution_count": null,
   "metadata": {},
   "outputs": [],
   "source": []
  }
 ],
 "metadata": {
  "kernelspec": {
   "display_name": "Python 3",
   "language": "python",
   "name": "python3"
  },
  "language_info": {
   "codemirror_mode": {
    "name": "ipython",
    "version": 3
   },
   "file_extension": ".py",
   "mimetype": "text/x-python",
   "name": "python",
   "nbconvert_exporter": "python",
   "pygments_lexer": "ipython3",
   "version": "3.7.6"
  }
 },
 "nbformat": 4,
 "nbformat_minor": 4
}
