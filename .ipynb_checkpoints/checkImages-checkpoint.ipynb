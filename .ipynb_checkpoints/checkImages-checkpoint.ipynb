{
 "cells": [
  {
   "cell_type": "markdown",
   "metadata": {},
   "source": [
    "## checkImages"
   ]
  },
  {
   "cell_type": "code",
   "execution_count": 91,
   "metadata": {},
   "outputs": [
    {
     "data": {
      "text/plain": [
       "['img\\\\1543229997733.png',\n",
       " 'img\\\\1543314645286.png',\n",
       " 'img\\\\18teAbendtour.png',\n",
       " 'img\\\\2017-08-05BaumAufRadweg.png',\n",
       " 'img\\\\2017Tour1Giesen.png',\n",
       " 'img\\\\2018-08DurchsCalenbergerLand.png',\n",
       " 'img\\\\20181230112148125_31597.png',\n",
       " 'img\\\\2019-02-03_ISEK_Arnum_Profil.png',\n",
       " 'img\\\\ADFCIcon.png',\n",
       " 'img\\\\banner.png',\n",
       " 'img\\\\bannerkurz.png',\n",
       " 'img\\\\bannerOhneLogo.png',\n",
       " 'img\\\\BaustelleL389.png',\n",
       " 'img\\\\Beispiel.png',\n",
       " 'img\\\\BetonstreifenL389.png',\n",
       " 'img\\\\BrueckeB3.png',\n",
       " 'img\\\\DurchdieHildesheimerBerge.png',\n",
       " 'img\\\\ErschliessungDudlerBau.png',\n",
       " 'img\\\\GrenzenGross.png',\n",
       " 'img\\\\GruppeAmHohnsensee.png',\n",
       " 'img\\\\hannah.png',\n",
       " 'img\\\\hannahPat.png',\n",
       " 'img\\\\hannahStadtHem.png',\n",
       " 'img\\\\HannahUebergabe2018-05-02.png',\n",
       " 'img\\\\HildesheimerWald.png',\n",
       " 'img\\\\holcim.png',\n",
       " 'img\\\\k226ost.png',\n",
       " 'img\\\\Ladestation.png',\n",
       " 'img\\\\MaengelKarte.png',\n",
       " 'img\\\\MangelkarteBedienung.png',\n",
       " 'img\\\\MitgliedWerden.png',\n",
       " 'img\\\\MittwochLogo200.png',\n",
       " 'img\\\\MuehleBlumenhagen.png',\n",
       " 'img\\\\PatGrueneKGSVorschlag.png',\n",
       " 'img\\\\PattensenKleinerDeisterOsterwald.png',\n",
       " 'img\\\\QRCode.png',\n",
       " 'img\\\\RadZuKlein.png',\n",
       " 'img\\\\Route2.png',\n",
       " 'img\\\\RWT2019_Karte-1_1.png',\n",
       " 'img\\\\RücksichtKlein.png',\n",
       " 'img\\\\SanierungL389.png',\n",
       " 'img\\\\screen_20161102_194216.png',\n",
       " 'img\\\\screen_20161106_125341.png',\n",
       " 'img\\\\screen_20161106_130249.png',\n",
       " 'img\\\\screen_20161106_130523.png',\n",
       " 'img\\\\smiley.png',\n",
       " 'img\\\\smiley2.png',\n",
       " 'img\\\\Tour2017-06-11.png',\n",
       " 'img\\\\Tour20180527.png',\n",
       " 'img\\\\Tour46.png',\n",
       " 'img\\\\Trogbrücke.png',\n",
       " 'img\\\\VerlaufNachEdemissen.png',\n",
       " 'img\\\\Wattway.png',\n",
       " 'img\\\\WeetzenerLnksabbgrNetto.png',\n",
       " 'img\\\\ÜberflutungZiegensbockbrücke.png',\n",
       " 'MaengelKarte\\\\img\\\\6Q7V+23_JeinsenSued.png',\n",
       " 'MaengelKarte\\\\img\\\\6Q7V+23_JeinsenSuedKorrektur.png',\n",
       " 'MaengelKarte\\\\img\\\\7M8V+Q4_Lüdersen.png',\n",
       " 'MaengelKarte\\\\img\\\\7Q87+6P_RadwegefuehrungGoettingerStr.png',\n",
       " 'MaengelKarte\\\\img\\\\7QPG+76_BankettAbgesackt.png',\n",
       " 'MaengelKarte\\\\img\\\\8P2Q+XR_SharedSpaceInBohmte.png',\n",
       " 'MaengelKarte\\\\img\\\\8P5M+RG_B3AltHoherHolzweg.png',\n",
       " 'MaengelKarte\\\\img\\\\8P5M+RG_B3AltHoherHolzwegVorschlag.png',\n",
       " 'MaengelKarte\\\\img\\\\8P77+W8_IstZustand.png',\n",
       " 'MaengelKarte\\\\img\\\\8P77+W8_Vorschlag.png',\n",
       " 'MaengelKarte\\\\img\\\\8P7H+35_Radverkehrskonzept_Lücken.png',\n",
       " 'MaengelKarte\\\\img\\\\8P7J+98_B3Bankett.png',\n",
       " 'MaengelKarte\\\\img\\\\8PCW+5H_BrotHenke.png',\n",
       " 'MaengelKarte\\\\img\\\\8PCW+5H_BrotHenkeFoto.png',\n",
       " 'MaengelKarte\\\\img\\\\8PCW+5H_PlanKreuzungBortHenke.png',\n",
       " 'MaengelKarte\\\\img\\\\8PFC+M26_WeserradwegHamelnEinengung.png',\n",
       " 'MaengelKarte\\\\img\\\\8PFG+4G_Katzbachweg.png',\n",
       " 'MaengelKarte\\\\img\\\\8PFG+4G_Katzbachweg2.png',\n",
       " 'MaengelKarte\\\\img\\\\8PFJ+M8_Dorle-und-Albrecht-Heuer-Weg.png',\n",
       " 'MaengelKarte\\\\img\\\\8PGF+2H_UmfahrungStadtbahnBaustelle.png',\n",
       " 'MaengelKarte\\\\img\\\\8PGR+7W_EinmuendungHoheBuente.png',\n",
       " 'MaengelKarte\\\\img\\\\8PGR+7W_EinmuendungHoheBuenteFoto.png',\n",
       " 'MaengelKarte\\\\img\\\\8PHG+RW_AmSiek.png',\n",
       " 'MaengelKarte\\\\img\\\\8PHG+RW_VerengungRadweg.png',\n",
       " 'MaengelKarte\\\\img\\\\8PHG+RW_WeserradwegHamelnEinengung.png',\n",
       " 'MaengelKarte\\\\img\\\\8PJR+55_BeiStrandbad.png',\n",
       " 'MaengelKarte\\\\img\\\\8Q5G+_BruekeGrassdachhaus.png',\n",
       " 'MaengelKarte\\\\img\\\\8Q63+HP_KöstereckeFoto.png',\n",
       " 'MaengelKarte\\\\img\\\\8Q63+HP_KöstereckeKarte.png',\n",
       " 'MaengelKarte\\\\img\\\\8Q64+XF_DurchfahrtWilkenburg.png',\n",
       " 'MaengelKarte\\\\img\\\\8Q84+6P_L389Radweg.png',\n",
       " 'MaengelKarte\\\\img\\\\8Q92+PM_EinfädelhilfeWunstorf.png',\n",
       " 'MaengelKarte\\\\img\\\\8Q92+PM_Querungshilfe.png',\n",
       " 'MaengelKarte\\\\img\\\\8Q92+PM_Radwegende.png',\n",
       " 'MaengelKarte\\\\img\\\\8Q94+VR_WilkenburgerSpinne.png',\n",
       " 'MaengelKarte\\\\img\\\\8Q94+VR_WilkenburgerSpinneFoto.png',\n",
       " 'MaengelKarte\\\\img\\\\8Q98+W4_Willkommenstafel.png',\n",
       " 'MaengelKarte\\\\img\\\\8QC7+2M_WegZurZiegenbocksbrücke.png',\n",
       " 'MaengelKarte\\\\img\\\\8QF6+GV_V-ZeichenWilkenburger.png',\n",
       " 'MaengelKarte\\\\img\\\\8QH3+R4_BrückeBrückstr.png',\n",
       " 'MaengelKarte\\\\img\\\\ADFCLogo.png',\n",
       " 'MaengelKarte\\\\img\\\\captchaEmail.png',\n",
       " 'MaengelKarte\\\\img\\\\IconLayers.png',\n",
       " 'MaengelKarte\\\\img\\\\IconVollbild.png',\n",
       " 'MaengelKarte\\\\img\\\\pin_red.png']"
      ]
     },
     "execution_count": 91,
     "metadata": {},
     "output_type": "execute_result"
    }
   ],
   "source": [
    "import os \n",
    " \n",
    "path = os.getcwd()\n",
    "fileExt = \"png\"\n",
    "\n",
    "allPngs = [os.path.join(d,f) for d,_,fl in os.walk(path) for f in fl if f.endswith(fileExt)]\n",
    "\n",
    "st = len(\"c:\\\\DataADFC\\\\adfc-github\\\\adfc-hemmingen-pattensen.github.io\\\\\")\n",
    "\n",
    "pngfiles = [png[st:] for png in allPngs]\n",
    "pngfiles"
   ]
  },
  {
   "cell_type": "code",
   "execution_count": 92,
   "metadata": {},
   "outputs": [],
   "source": [
    "all = [f for f in os.listdir(os.getcwd()) if os.path.isfile(os.path.join(os.getcwd(), f))  ]\n",
    "allMDfiles = [x for x in all if x.endswith(\"md\")]"
   ]
  },
  {
   "cell_type": "code",
   "execution_count": 93,
   "metadata": {},
   "outputs": [
    {
     "data": {
      "text/plain": [
       "['img\\\\banner.png',\n",
       " 'img\\\\2017-08-05BaumAufRadweg.png',\n",
       " 'img\\\\ÜberflutungZiegensbockbrücke.png',\n",
       " 'img\\\\PatGrueneKGSVorschlag.png',\n",
       " 'img\\\\Wattway.png',\n",
       " 'img\\\\k226ost.png',\n",
       " 'img\\\\Ladestation.png',\n",
       " 'img\\\\BrueckeB3.png',\n",
       " 'img\\\\banner.png',\n",
       " 'img\\\\2017-08-05BaumAufRadweg.png',\n",
       " 'img\\\\ÜberflutungZiegensbockbrücke.png',\n",
       " 'img\\\\PatGrueneKGSVorschlag.png',\n",
       " 'img\\\\Wattway.png',\n",
       " 'img\\\\k226ost.png',\n",
       " 'img\\\\Ladestation.png',\n",
       " 'img\\\\BrueckeB3.png',\n",
       " 'img\\\\MittwochLogo200.png',\n",
       " 'img\\\\MaengelKarte.png',\n",
       " 'img\\\\WeetzenerLnksabbgrNetto.png',\n",
       " 'img\\\\2019-02-03_ISEK_Arnum_Profil.png',\n",
       " 'img\\\\MittwochLogo200.png',\n",
       " 'img\\\\MaengelKarte.png',\n",
       " 'img\\\\WeetzenerLnksabbgrNetto.png',\n",
       " 'img\\\\2019-02-03_ISEK_Arnum_Profil.png',\n",
       " 'img\\\\banner.png',\n",
       " 'img\\\\RWT2019_Karte-1_1.png',\n",
       " 'img\\\\1543314645286.png',\n",
       " 'img\\\\1543229997733.png',\n",
       " 'img\\\\RücksichtKlein.png',\n",
       " 'img\\\\2018-08DurchsCalenbergerLand.png',\n",
       " 'img\\\\GruppeAmHohnsensee.png',\n",
       " 'img\\\\Tour20180527.png',\n",
       " 'img\\\\VerlaufNachEdemissen.png',\n",
       " 'img\\\\MittwochLogo200.png',\n",
       " 'img\\\\Tour46.png',\n",
       " 'img\\\\hannahPat.png',\n",
       " 'img\\\\Tour2017-06-11.png',\n",
       " 'img\\\\2017Tour1Giesen.png',\n",
       " 'img\\\\hannahStadtHem.png',\n",
       " 'img\\\\PattensenKleinerDeisterOsterwald.png',\n",
       " 'img\\\\hannahPat.png',\n",
       " 'img\\\\18teAbendtour.png',\n",
       " 'img\\\\hannah.png',\n",
       " 'img\\\\holcim.png',\n",
       " 'img\\\\banner.png',\n",
       " 'img\\\\RWT2019_Karte-1_1.png',\n",
       " 'img\\\\1543229997733.png',\n",
       " 'img\\\\20181230112148125_31597.png',\n",
       " 'img\\\\1543314645286.png',\n",
       " 'img\\\\1543229997733.png',\n",
       " 'img\\\\RücksichtKlein.png',\n",
       " 'img\\\\2018-08DurchsCalenbergerLand.png',\n",
       " 'img\\\\GruppeAmHohnsensee.png',\n",
       " 'img\\\\Tour20180527.png',\n",
       " 'img\\\\VerlaufNachEdemissen.png',\n",
       " 'img\\\\MittwochLogo200.png',\n",
       " 'img\\\\Tour46.png',\n",
       " 'img\\\\hannahPat.png',\n",
       " 'img\\\\Tour2017-06-11.png',\n",
       " 'img\\\\2017Tour1Giesen.png',\n",
       " 'img\\\\hannahStadtHem.png',\n",
       " 'img\\\\PattensenKleinerDeisterOsterwald.png',\n",
       " 'img\\\\hannahPat.png',\n",
       " 'img\\\\18teAbendtour.png',\n",
       " 'img\\\\hannah.png',\n",
       " 'img\\\\holcim.png']"
      ]
     },
     "execution_count": 93,
     "metadata": {},
     "output_type": "execute_result"
    }
   ],
   "source": [
    "import re\n",
    "\n",
    "pngRefs = []\n",
    "for f in allMDfiles:\n",
    "    md = open(f, \"r\", encoding='utf8').read()\n",
    "    refs = re.findall( r'\\[.*\\]\\((.*?.{})\\)'.format(fileExt), md)\n",
    "    ref = [ref for ref in refs if ref[:4] != \"http\"]\n",
    "    pngRefs.append(ref)\n",
    "flatlist = [j for sub in pngRefs for j in sub]\n",
    "\n",
    "foundpngs = []\n",
    "for entry in flatlist:\n",
    "    foundpngs.append(entry.replace('/', '\\\\'))\n",
    "                                   \n",
    "foundpngs"
   ]
  },
  {
   "cell_type": "code",
   "execution_count": 96,
   "metadata": {},
   "outputs": [
    {
     "data": {
      "text/plain": [
       "[]"
      ]
     },
     "execution_count": 96,
     "metadata": {},
     "output_type": "execute_result"
    }
   ],
   "source": [
    "[x for x in foundpngs if x not in pngfiles]"
   ]
  },
  {
   "cell_type": "code",
   "execution_count": 98,
   "metadata": {},
   "outputs": [
    {
     "data": {
      "text/plain": [
       "['img\\\\1543229997733.png',\n",
       " 'img\\\\1543314645286.png',\n",
       " 'img\\\\18teAbendtour.png',\n",
       " 'img\\\\2017-08-05BaumAufRadweg.png',\n",
       " 'img\\\\2017Tour1Giesen.png',\n",
       " 'img\\\\2018-08DurchsCalenbergerLand.png',\n",
       " 'img\\\\20181230112148125_31597.png',\n",
       " 'img\\\\2019-02-03_ISEK_Arnum_Profil.png',\n",
       " 'img\\\\banner.png',\n",
       " 'img\\\\BrueckeB3.png',\n",
       " 'img\\\\GruppeAmHohnsensee.png',\n",
       " 'img\\\\hannah.png',\n",
       " 'img\\\\hannahPat.png',\n",
       " 'img\\\\hannahStadtHem.png',\n",
       " 'img\\\\holcim.png',\n",
       " 'img\\\\k226ost.png',\n",
       " 'img\\\\Ladestation.png',\n",
       " 'img\\\\MaengelKarte.png',\n",
       " 'img\\\\MittwochLogo200.png',\n",
       " 'img\\\\PatGrueneKGSVorschlag.png',\n",
       " 'img\\\\PattensenKleinerDeisterOsterwald.png',\n",
       " 'img\\\\RWT2019_Karte-1_1.png',\n",
       " 'img\\\\RücksichtKlein.png',\n",
       " 'img\\\\Tour2017-06-11.png',\n",
       " 'img\\\\Tour20180527.png',\n",
       " 'img\\\\Tour46.png',\n",
       " 'img\\\\VerlaufNachEdemissen.png',\n",
       " 'img\\\\Wattway.png',\n",
       " 'img\\\\WeetzenerLnksabbgrNetto.png',\n",
       " 'img\\\\ÜberflutungZiegensbockbrücke.png']"
      ]
     },
     "execution_count": 98,
     "metadata": {},
     "output_type": "execute_result"
    }
   ],
   "source": [
    "[x for x in pngfiles if x in  foundpngs ]"
   ]
  },
  {
   "cell_type": "code",
   "execution_count": null,
   "metadata": {},
   "outputs": [],
   "source": []
  }
 ],
 "metadata": {
  "kernelspec": {
   "display_name": "Python 3",
   "language": "python",
   "name": "python3"
  },
  "language_info": {
   "codemirror_mode": {
    "name": "ipython",
    "version": 3
   },
   "file_extension": ".py",
   "mimetype": "text/x-python",
   "name": "python",
   "nbconvert_exporter": "python",
   "pygments_lexer": "ipython3",
   "version": "3.7.6"
  }
 },
 "nbformat": 4,
 "nbformat_minor": 4
}
